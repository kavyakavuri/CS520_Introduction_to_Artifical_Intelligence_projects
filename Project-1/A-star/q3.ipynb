{
 "cells": [
  {
   "cell_type": "code",
   "execution_count": 136,
   "metadata": {},
   "outputs": [],
   "source": [
    "%run AStarShortestPathCopy1.ipynb\n",
    "import collections"
   ]
  },
  {
   "cell_type": "markdown",
   "metadata": {},
   "source": [
    "## Running A\\*, repeated A\\* and checking their returned paths"
   ]
  },
  {
   "cell_type": "code",
   "execution_count": 152,
   "metadata": {},
   "outputs": [
    {
     "name": "stdout",
     "output_type": "stream",
     "text": [
      "------------------------\n",
      "\n",
      "------------------------\n",
      "\n",
      "------------------------\n",
      "\n",
      "------------------------\n",
      "\n",
      "------------------------\n",
      "\n",
      "------------------------\n",
      "\n",
      "------------------------\n",
      "\n",
      "actual path:\n"
     ]
    },
    {
     "data": {
      "image/png": "[encoded data removed]",
      "text/plain": [
       "<Figure size 432x288 with 1 Axes>"
      ]
     },
     "metadata": {
      "needs_background": "light"
     },
     "output_type": "display_data"
    },
    {
     "name": "stdout",
     "output_type": "stream",
     "text": [
      "repeated A* path:\n"
     ]
    },
    {
     "data": {
      "image/png": "[encoded data removed]",
      "text/plain": [
       "<Figure size 432x288 with 1 Axes>"
      ]
     },
     "metadata": {
      "needs_background": "light"
     },
     "output_type": "display_data"
    },
    {
     "name": "stdout",
     "output_type": "stream",
     "text": [
      "block unblock:  [[0 0 0 0 0 0 0 0 0 0]\n",
      " [0 0 1 0 0 0 1 0 1 0]\n",
      " [1 0 0 0 0 0 0 0 1 1]\n",
      " [0 0 1 0 0 1 0 1 0 0]\n",
      " [0 0 1 1 1 0 0 0 0 0]\n",
      " [0 1 0 0 0 0 0 0 1 0]\n",
      " [0 0 0 0 0 1 0 1 0 0]\n",
      " [0 0 1 0 0 0 0 0 1 0]\n",
      " [1 0 0 0 0 0 1 0 0 0]\n",
      " [1 1 0 1 0 1 1 0 0 0]]\n",
      "agent matrix:  [[0 0 0 0 0 0 0 0 0 0]\n",
      " [0 0 0 0 0 0 0 0 0 0]\n",
      " [1 0 0 0 0 0 0 0 0 0]\n",
      " [0 0 1 0 0 0 0 0 0 0]\n",
      " [0 0 1 0 0 0 0 0 0 0]\n",
      " [0 1 0 0 0 0 0 0 0 0]\n",
      " [0 0 0 0 0 0 0 0 0 0]\n",
      " [0 0 0 0 0 0 0 0 0 0]\n",
      " [1 0 0 0 0 0 1 0 0 0]\n",
      " [0 1 0 1 0 1 0 0 0 0]]\n",
      "out of  10\n",
      "same path:  3\n",
      "not same path:  1\n",
      "discarded:  3\n"
     ]
    },
    {
     "data": {
      "image/png": "[encoded data removed]",
      "text/plain": [
       "<Figure size 432x288 with 1 Axes>"
      ]
     },
     "metadata": {
      "needs_background": "light"
     },
     "output_type": "display_data"
    }
   ],
   "source": [
    "dim = 10\n",
    "probability = 0.3\n",
    "same = 0\n",
    "not_same=0\n",
    "discarded = 0\n",
    "num_of_runs =10\n",
    "\n",
    "for i in range(num_of_runs):\n",
    "    initialize(dim,probability)\n",
    "    print(\"------------------------\\n\")\n",
    "    _,_,_,path1 = astar((0,0,0),block_unblock_matrix)\n",
    "    if(len(path1) == 0):\n",
    "        discarded += 1\n",
    "        continue\n",
    "    _,_,path2 = repeated_astar()\n",
    "#     print(\"--------------------------------------------------------------------------\\n\")\n",
    "#     print(\"path1: \",path1,\" graph: \")?\n",
    "#     display2(path1,block_unblock_matrix)\n",
    "    \n",
    "#     print(\"path2: \",path2,\" graph: \")\n",
    "#     display2(path2, agent_matrix)\n",
    "    if collections.Counter(path1) == collections.Counter(path2):\n",
    "        same += 1 \n",
    "    else:\n",
    "        print(\"actual path:\")\n",
    "        display2(path1,block_unblock_matrix)\n",
    "        plt.spy(block_unblock_matrix)\n",
    "        print(\"repeated A* path:\")\n",
    "        display2(path2,agent_matrix)\n",
    "        plt.spy(agent_matrix)\n",
    "        print(\"block unblock: \",block_unblock_matrix)\n",
    "        print(\"agent matrix: \",agent_matrix)\n",
    "        not_same +=1 \n",
    "        break\n",
    "print(\"out of \",num_of_runs)\n",
    "print(\"same path: \",same)\n",
    "print(\"not same path: \",not_same)\n",
    "print(\"discarded: \",discarded)"
   ]
  },
  {
   "cell_type": "code",
   "execution_count": null,
   "metadata": {},
   "outputs": [],
   "source": [
    "block_unblock_matrix"
   ]
  },
  {
   "cell_type": "code",
   "execution_count": 153,
   "metadata": {},
   "outputs": [
    {
     "data": {
      "text/plain": [
       "<matplotlib.image.AxesImage at 0x7f5424fd0070>"
      ]
     },
     "execution_count": 153,
     "metadata": {},
     "output_type": "execute_result"
    },
    {
     "data": {
      "image/png": "[encoded data removed]",
      "text/plain": [
       "<Figure size 432x288 with 1 Axes>"
      ]
     },
     "metadata": {
      "needs_background": "light"
     },
     "output_type": "display_data"
    }
   ],
   "source": [
    "plt.spy(block_unblock_matrix)"
   ]
  },
  {
   "cell_type": "code",
   "execution_count": 154,
   "metadata": {},
   "outputs": [
    {
     "data": {
      "text/plain": [
       "<matplotlib.image.AxesImage at 0x7f54252ad0d0>"
      ]
     },
     "execution_count": 154,
     "metadata": {},
     "output_type": "execute_result"
    },
    {
     "data": {
      "image/png": "[encoded data removed]",
      "text/plain": [
       "<Figure size 432x288 with 1 Axes>"
      ]
     },
     "metadata": {
      "needs_background": "light"
     },
     "output_type": "display_data"
    }
   ],
   "source": [
    "plt.spy(agent_matrix)"
   ]
  },
  {
   "cell_type": "code",
   "execution_count": null,
   "metadata": {},
   "outputs": [],
   "source": []
  }
 ],
 "metadata": {
  "kernelspec": {
   "display_name": "Python 3",
   "language": "python",
   "name": "python3"
  },
  "language_info": {
   "codemirror_mode": {
    "name": "ipython",
    "version": 3
   },
   "file_extension": ".py",
   "mimetype": "text/x-python",
   "name": "python",
   "nbconvert_exporter": "python",
   "pygments_lexer": "ipython3",
   "version": "3.8.5"
  }
 },
 "nbformat": 4,
 "nbformat_minor": 4
}
