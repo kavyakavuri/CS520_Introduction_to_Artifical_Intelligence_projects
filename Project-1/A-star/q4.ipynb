{
 "cells": [
  {
   "cell_type": "code",
   "execution_count": 107,
   "metadata": {},
   "outputs": [],
   "source": [
    "%run AStarShortestPathCopy1.ipynb\n",
    "from os import listdir\n",
    "import re"
   ]
  },
  {
   "cell_type": "code",
   "execution_count": 108,
   "metadata": {},
   "outputs": [],
   "source": [
    "initialize(5,0.3)\n",
    "def check_threshold(num_of_runs,dimension,p_low,p_high,step):\n",
    "    probabilities = np.arange(p_low, p_high, step)\n",
    "    probabilities = np.round(probabilities,3)\n",
    "    print(\"probabilities: \",probabilities)\n",
    "    solvability = {}\n",
    "    \n",
    "    for prob in list(probabilities):\n",
    "        for i in range(num_of_runs):\n",
    "            initialize(dimension,prob)\n",
    "            (trajectory_path,_,_,shortest_path) = ([],0,0,[])\n",
    "#             print(astar((0,0,0),block_unblock_matrix))\n",
    "            (trajectory_path,_,_,shortest_path) = astar((0,0,0),block_unblock_matrix)\n",
    "            if len(trajectory_path) != 0:\n",
    "                if prob in solvability.keys():\n",
    "                    solvability[prob].append(1)\n",
    "                else:\n",
    "                    solvability[prob] = list()\n",
    "                    solvability[prob].append(1)\n",
    "            else:\n",
    "                if prob in solvability.keys():\n",
    "                    solvability[prob].append(0)\n",
    "                else:\n",
    "                    solvability[prob] = list()\n",
    "                    solvability[prob].append(0)\n",
    "            \n",
    "#     print(\"solvabilities: \",solvability)\n",
    "    filename = \"./results/Q4/q4\"+str(np.random.randint(1000000))+\".txt\"\n",
    "    f = open(filename, \"w\")\n",
    "    f.write(str(dimension)+str(\" \")+str(num_of_runs)+\"\\n\")\n",
    "    for key in solvability.keys():\n",
    "        values = solvability[key]\n",
    "        f.write(str(key)+ str(\" \")+str(sum(values)/len(values))+\"\\n\")\n",
    "    f.close()\n",
    "    print(\"done\",filename)\n",
    "\n"
   ]
  },
  {
   "cell_type": "code",
   "execution_count": 109,
   "metadata": {},
   "outputs": [
    {
     "name": "stdout",
     "output_type": "stream",
     "text": [
      "probabilities:  [0.  0.1 0.2 0.3 0.4 0.5 0.6 0.7 0.8 0.9]\n",
      "done ./results/Q4/q4734388.txt\n"
     ]
    }
   ],
   "source": [
    "check_threshold(5,101,0.0,1.0,0.1) # args-> number of runs,dimension of matrix, probability low, probability high, step size"
   ]
  },
  {
   "cell_type": "code",
   "execution_count": 110,
   "metadata": {},
   "outputs": [
    {
     "name": "stdout",
     "output_type": "stream",
     "text": [
      "probabilities:  [0.2  0.21 0.22 0.23 0.24 0.25 0.26 0.27 0.28 0.29]\n",
      "done ./results/Q4/q47375.txt\n"
     ]
    }
   ],
   "source": [
    "check_threshold(5,101,0.2,0.3,0.01) # args-> number of runs,dimension of matrix, probability low, probability high, step size"
   ]
  },
  {
   "cell_type": "code",
   "execution_count": 111,
   "metadata": {},
   "outputs": [],
   "source": [
    "def getAvgSolvabilities():\n",
    "    filenames = listdir(\"./results/Q4/\")\n",
    "    avg_solvability={}\n",
    "    for filename in filenames:\n",
    "        match = re.match(\"q4.*\",filename)\n",
    "#         print(\"matched: \",filename)\n",
    "        if not match:\n",
    "            continue\n",
    "        file = open(\"./results/Q4/\"+filename, 'r')\n",
    "        Lines = file.readlines()\n",
    "        Lines = Lines[1:]\n",
    "        for line in Lines:\n",
    "            token =line.split()\n",
    "            if token[0] in avg_solvability.keys():\n",
    "                avg_solvability[token[0].strip()].append(float(token[1].strip()))\n",
    "            else:\n",
    "                avg_solvability[token[0].strip()] =list()\n",
    "                avg_solvability[token[0].strip()].append(float(token[1].strip()))\n",
    "    print(\"probability: percentage matrices solvable\")\n",
    "    avg_solvability = dict(sorted(avg_solvability.items(), key=lambda item: item[0]))\n",
    "    \n",
    "    for key in avg_solvability.keys():\n",
    "        value = avg_solvability[key]\n",
    "#         print(key,value)\n",
    "        print(key,\" : \",sum(value)/len(value)*100)"
   ]
  },
  {
   "cell_type": "code",
   "execution_count": 112,
   "metadata": {},
   "outputs": [
    {
     "name": "stdout",
     "output_type": "stream",
     "text": [
      "probability: percentage matrices solvable\n",
      "0.0  :  100.0\n",
      "0.1  :  87.99999999999999\n",
      "0.2  :  81.0\n",
      "0.21  :  70.5\n",
      "0.22  :  80.74999999999999\n",
      "0.23  :  59.25\n",
      "0.24  :  65.0\n",
      "0.25  :  79.25\n",
      "0.26  :  64.0\n",
      "0.27  :  62.24999999999999\n",
      "0.28  :  41.0\n",
      "0.29  :  57.25\n",
      "0.3  :  45.88888888888889\n",
      "0.4  :  6.333333333333334\n",
      "0.5  :  3.444444444444445\n",
      "0.6  :  0.4444444444444444\n",
      "0.7  :  0.0\n",
      "0.8  :  0.1111111111111111\n",
      "0.9  :  0.0\n"
     ]
    }
   ],
   "source": [
    "getAvgSolvabilities()"
   ]
  },
  {
   "cell_type": "code",
   "execution_count": null,
   "metadata": {},
   "outputs": [],
   "source": []
  }
 ],
 "metadata": {
  "kernelspec": {
   "display_name": "Python 3",
   "language": "python",
   "name": "python3"
  },
  "language_info": {
   "codemirror_mode": {
    "name": "ipython",
    "version": 3
   },
   "file_extension": ".py",
   "mimetype": "text/x-python",
   "name": "python",
   "nbconvert_exporter": "python",
   "pygments_lexer": "ipython3",
   "version": "3.8.5"
  }
 },
 "nbformat": 4,
 "nbformat_minor": 4
}
