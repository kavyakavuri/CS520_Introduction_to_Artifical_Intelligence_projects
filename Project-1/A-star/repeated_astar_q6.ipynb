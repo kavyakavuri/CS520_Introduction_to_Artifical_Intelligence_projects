{
 "cells": [
  {
   "cell_type": "code",
   "execution_count": 57,
   "metadata": {},
   "outputs": [
    {
     "data": {
      "image/png": "[encoded data removed]",
      "text/plain": [
       "<Figure size 432x288 with 1 Axes>"
      ]
     },
     "metadata": {
      "needs_background": "light"
     },
     "output_type": "display_data"
    },
    {
     "data": {
      "image/png": "[encoded data removed]",
      "text/plain": [
       "<Figure size 432x288 with 1 Axes>"
      ]
     },
     "metadata": {
      "needs_background": "light"
     },
     "output_type": "display_data"
    }
   ],
   "source": [
    "%run a_star.ipynb\n",
    "import time"
   ]
  },
  {
   "cell_type": "code",
   "execution_count": 58,
   "metadata": {},
   "outputs": [],
   "source": [
    "def repeated_astarq6():\n",
    "    global maze_size\n",
    "    agent_matrix = np.asmatrix(np.zeros(maze_size*maze_size).reshape(maze_size,maze_size))\n",
    "    goal_reached = False\n",
    "    goal = (n-1,n-1)\n",
    "    path = []\n",
    "    final_path = [(0,0)]\n",
    "    trajectory_length = 0\n",
    "#     num_of_cells =0\n",
    "    tot_time_planning = 0\n",
    "    bumped = 0\n",
    "    \n",
    "    while not goal_reached:\n",
    "        start_time = time.time()\n",
    "        path = astar(final_path[-1],goal,agent_matrix)\n",
    "        print(agent_matrix, \"start:\",final_path[-1])\n",
    "        print(path)\n",
    "#         num_of_cells += astar_num_cells\n",
    "        tot_time_planning += (time.time() - start_time)\n",
    "        if(path == []):\n",
    "            return (0,[],0,0)\n",
    "        \n",
    "        for node in path:\n",
    "            x = node[0]\n",
    "            y = node[1]\n",
    "            if x+1<n and grid[(x+1,y)] == 1:\n",
    "                agent_matrix[(x+1,y)] = 1\n",
    "            if x-1>=0 and grid[(x-1,y)] == 1:\n",
    "                agent_matrix[(x-1,y)] = 1\n",
    "            if y+1<n and grid[(x,y+1)] == 1:\n",
    "                agent_matrix[(x,y+1)] = 1\n",
    "            if y-1>=0 and grid[(x,y-1)] == 1:\n",
    "                agent_matrix[(x,y-1)] = 1\n",
    "            if grid[node] == 0:\n",
    "#                 print(\"node: \",node[:2],\" is unblocked\")\n",
    "                if node not in final_path:\n",
    "                    final_path.append(node)\n",
    "                    trajectory_length += 1\n",
    "                if node == goal:\n",
    "                    goal_reached = True\n",
    "                    break\n",
    "            else:\n",
    "                agent_matrix[node] = 1\n",
    "                trajectory_length += 2\n",
    "                bumped += 1\n",
    "                break\n",
    "    shortest_path_final_discovered_gridworld= astar((0,0),goal,agent_matrix)\n",
    "    return (trajectory_length, shortest_path_final_discovered_gridworld, tot_time_planning, bumped)"
   ]
  },
  {
   "cell_type": "code",
   "execution_count": 64,
   "metadata": {},
   "outputs": [
    {
     "name": "stdout",
     "output_type": "stream",
     "text": [
      "[[0. 0. 0. 0. 0.]\n",
      " [0. 0. 0. 0. 0.]\n",
      " [0. 0. 0. 0. 0.]\n",
      " [0. 0. 0. 0. 0.]\n",
      " [0. 0. 0. 0. 0.]] start: (0, 0)\n",
      "[(0, 0), (0, 1), (0, 2), (0, 3), (0, 4), (1, 4), (2, 4), (3, 4), (4, 4)]\n",
      "[[0. 0. 0. 0. 1.]\n",
      " [0. 1. 0. 0. 0.]\n",
      " [0. 0. 0. 0. 0.]\n",
      " [0. 0. 0. 0. 0.]\n",
      " [0. 0. 0. 0. 0.]] start: (0, 3)\n",
      "[(0, 3), (1, 3), (1, 4), (2, 4), (3, 4), (4, 4)]\n"
     ]
    },
    {
     "data": {
      "image/png": "[encoded data removed]",
      "text/plain": [
       "<Figure size 432x288 with 1 Axes>"
      ]
     },
     "metadata": {
      "needs_background": "light"
     },
     "output_type": "display_data"
    }
   ],
   "source": [
    "n=5\n",
    "initialize(n,0.3)\n",
    "plt.spy(grid)\n",
    "traj_length, path, time, bumped = repeated_astarq6()"
   ]
  },
  {
   "cell_type": "code",
   "execution_count": 65,
   "metadata": {},
   "outputs": [
    {
     "data": {
      "image/png": "[encoded data removed]",
      "text/plain": [
       "<Figure size 432x288 with 1 Axes>"
      ]
     },
     "metadata": {
      "needs_background": "light"
     },
     "output_type": "display_data"
    }
   ],
   "source": [
    "display2(path,grid)"
   ]
  },
  {
   "cell_type": "code",
   "execution_count": null,
   "metadata": {},
   "outputs": [],
   "source": []
  }
 ],
 "metadata": {
  "kernelspec": {
   "display_name": "Python 3",
   "language": "python",
   "name": "python3"
  },
  "language_info": {
   "codemirror_mode": {
    "name": "ipython",
    "version": 3
   },
   "file_extension": ".py",
   "mimetype": "text/x-python",
   "name": "python",
   "nbconvert_exporter": "python",
   "pygments_lexer": "ipython3",
   "version": "3.8.5"
  }
 },
 "nbformat": 4,
 "nbformat_minor": 4
}
