{
 "cells": [
  {
   "cell_type": "code",
   "execution_count": 7,
   "metadata": {},
   "outputs": [],
   "source": [
    "%run AStarShortestPathCopy1.ipynb\n",
    "%run repeated_astar_q6.ipynb"
   ]
  },
  {
   "cell_type": "markdown",
   "metadata": {},
   "source": [
    "### Density VS Avg Trajectory length for p -> 0 to p0(0.2) for Manhattan"
   ]
  },
  {
   "cell_type": "code",
   "execution_count": 8,
   "metadata": {},
   "outputs": [],
   "source": [
    "def getAvgTrajectoryLengths(dim,p_low,p_high,step,num_of_runs):\n",
    "    probabilities = np.arange(p_low, p_high, step)\n",
    "    probabilities = np.round(probabilities,3)\n",
    "    trajectory_length ={}\n",
    "    print(\"probabilities: \",probabilities)\n",
    "    for prob in probabilities:\n",
    "        for i in range(num_of_runs):\n",
    "            initialize(dim,prob)\n",
    "            path,_,_,_ = astar((0,0,0),block_unblock_matrix)\n",
    "#             print(\"path a*:\",path)\n",
    "            if len(path) == 0:\n",
    "                continue\n",
    "            else:\n",
    "                path_length,_,_ = repeated_astarq6()\n",
    "#                 print(\"path rep a*: \",path_length)\n",
    "                if prob in trajectory_length.keys():\n",
    "                    trajectory_length[prob].append(path_length)\n",
    "                else:\n",
    "                    trajectory_length[prob] = list()\n",
    "                    trajectory_length[prob].append(path_length)\n",
    "                    \n",
    "    filename = \"./results/Q6/q6_avg_traj_\"+str(np.random.randint(1000000))+\".txt\"\n",
    "    f = open(filename, \"w\")\n",
    "    f.write(str(dim)+str(\",\")+str(num_of_runs)+\"\\n\")\n",
    "    for key in trajectory_length.keys():\n",
    "        value = trajectory_length[key]\n",
    "        f.write(str(key)+ str(\",\")+str(sum(value)/len(value))+\"\\n\")\n",
    "    print(\"done. file: \",filename)"
   ]
  },
  {
   "cell_type": "code",
   "execution_count": 9,
   "metadata": {},
   "outputs": [
    {
     "name": "stdout",
     "output_type": "stream",
     "text": [
      "probabilities:  [0.    0.025 0.05  0.075 0.1   0.125 0.15  0.175 0.2  ]\n",
      "done. file:  ./results/Q6/q6_avg_traj_487933.txt\n"
     ]
    }
   ],
   "source": [
    "getAvgTrajectoryLengths(101,0.0,0.225,0.025,30) # dimension of matrix, probability low, probability high, step size, number of runs"
   ]
  },
  {
   "cell_type": "markdown",
   "metadata": {},
   "source": [
    "### Density VS Average (Length of Trajectory/length of shortest path on final discovered gridworld)"
   ]
  },
  {
   "cell_type": "code",
   "execution_count": 10,
   "metadata": {},
   "outputs": [],
   "source": [
    "def getAvgLengths1(dim,p_low,p_high,step,num_of_runs):\n",
    "    probabilities = np.arange(p_low, p_high, step)\n",
    "    probabilities = np.round(probabilities,3)\n",
    "    avg_length ={}\n",
    "    print(\"probabilities: \",probabilities)\n",
    "    for prob in probabilities:\n",
    "        for i in range(num_of_runs):\n",
    "            initialize(dim,prob)\n",
    "            path,_,_,_ = astar((0,0,0),block_unblock_matrix)\n",
    "#             print(\"path a*:\",path)\n",
    "            if len(path) == 0:\n",
    "                continue\n",
    "            else:\n",
    "                path_length,_,shortest_path = repeated_astarq6()\n",
    "#                 print(\"path rep a*: \",path_length)\n",
    "                if len(shortest_path) == 0 or path_length == 0:\n",
    "                    continue\n",
    "                if prob in avg_length.keys():\n",
    "                    avg_length[prob].append(path_length/len(shortest_path))\n",
    "                else:\n",
    "                    avg_length[prob] = list()\n",
    "                    avg_length[prob].append(path_length/len(shortest_path))\n",
    "                    \n",
    "    filename = \"./results/Q6/q6_avg_len_1_\"+str(np.random.randint(1000000))+\".txt\"\n",
    "    f = open(filename, \"w\")\n",
    "    f.write(str(dim)+str(\",\")+str(num_of_runs)+\"\\n\")\n",
    "    for key in avg_length.keys():\n",
    "        value = avg_length[key]\n",
    "        f.write(str(key)+ str(\",\")+str(sum(value)/len(value))+\"\\n\")\n",
    "    print(\"done. file: \",filename)\n"
   ]
  },
  {
   "cell_type": "code",
   "execution_count": 11,
   "metadata": {},
   "outputs": [
    {
     "name": "stdout",
     "output_type": "stream",
     "text": [
      "probabilities:  [0.    0.025 0.05  0.075 0.1   0.125 0.15  0.175 0.2  ]\n",
      "done. file:  ./results/Q6/q6_avg_len_1_10715.txt\n"
     ]
    }
   ],
   "source": [
    "getAvgLengths1(101,0.0,0.225,0.025,30)  # dimension of matrix, probability low, probability high, step size, number of runs"
   ]
  },
  {
   "cell_type": "markdown",
   "metadata": {},
   "source": [
    "### Density VS Average (Length of shortest path on final discovered gridworld / Length of shortest path in Full Gridworld)"
   ]
  },
  {
   "cell_type": "code",
   "execution_count": 12,
   "metadata": {},
   "outputs": [],
   "source": [
    "def getAvgLengths2(dim,p_low,p_high,step,num_of_runs):\n",
    "    probabilities = np.arange(p_low, p_high, step)\n",
    "    probabilities = np.round(probabilities,3)\n",
    "    avg_length ={}\n",
    "    print(\"probabilities: \",probabilities)\n",
    "    for prob in probabilities:\n",
    "        for i in range(num_of_runs):\n",
    "            initialize(dim,prob)\n",
    "            path,_,_,shortest_path_full_gridworld = astar((0,0,0),block_unblock_matrix)\n",
    "#             print(\"path a*:\",path)\n",
    "            if len(shortest_path_full_gridworld) == 0:\n",
    "                continue\n",
    "            else:\n",
    "                path_length,_,shortest_path = repeated_astarq6()\n",
    "#                 print(\"path rep a*: \",path_length)\n",
    "                if path_length == 0:\n",
    "                    continue\n",
    "                if prob in avg_length.keys():\n",
    "                    avg_length[prob].append(len(shortest_path)/len(shortest_path_full_gridworld))\n",
    "                else:\n",
    "                    avg_length[prob] = list()\n",
    "                    avg_length[prob].append(len(shortest_path)/len(shortest_path_full_gridworld))\n",
    "                    \n",
    "    filename = \"./results/Q6/q6_avg_len_2_\"+str(np.random.randint(1000000))+\".txt\"\n",
    "    f = open(filename, \"w\")\n",
    "    f.write(str(dim)+str(\",\")+str(num_of_runs)+\"\\n\")\n",
    "    for key in avg_length.keys():\n",
    "        value = avg_length[key]\n",
    "        f.write(str(key)+ str(\",\")+str(sum(value)/len(value))+\"\\n\")\n",
    "    print(\"done. file: \",filename)"
   ]
  },
  {
   "cell_type": "code",
   "execution_count": 13,
   "metadata": {},
   "outputs": [
    {
     "name": "stdout",
     "output_type": "stream",
     "text": [
      "probabilities:  [0.    0.025 0.05  0.075 0.1   0.125 0.15  0.175 0.2  ]\n",
      "done. file:  ./results/Q6/q6_avg_len_2_701732.txt\n"
     ]
    }
   ],
   "source": [
    "getAvgLengths2(101,0.0,0.225,0.025,30) # dimension of matrix, probability low, probability high, step size, number of runs"
   ]
  },
  {
   "cell_type": "markdown",
   "metadata": {},
   "source": [
    "### Density VS Average Number of Cells Processed by Repeated A*"
   ]
  },
  {
   "cell_type": "code",
   "execution_count": 14,
   "metadata": {},
   "outputs": [],
   "source": [
    "def getAvgNumberOfCellsProcessed(dim,p_low,p_high,step,num_of_runs):\n",
    "    probabilities = np.arange(p_low, p_high, step)\n",
    "    probabilities = np.round(probabilities,3)\n",
    "    avg_cells ={}\n",
    "    print(\"probabilities: \",probabilities)\n",
    "    for prob in probabilities:\n",
    "        for i in range(num_of_runs):\n",
    "            initialize(dim,prob)\n",
    "            path,_,_,_ = astar((0,0,0),block_unblock_matrix)\n",
    "#             print(\"path a*:\",path)\n",
    "            if len(path) == 0:\n",
    "                continue\n",
    "            else:\n",
    "                _,num_cells_processed,_ = repeated_astarq6()\n",
    "                if num_cells_processed == 0:\n",
    "                    continue\n",
    "#                 print(\"path rep a*: \",path_length)\n",
    "                if prob in avg_cells.keys():\n",
    "                    avg_cells[prob].append(num_cells_processed)\n",
    "                else:\n",
    "                    avg_cells[prob] = list()\n",
    "                    avg_cells[prob].append(num_cells_processed)\n",
    "                    \n",
    "    filename = \"./results/Q6/q6_avg_cells_\"+str(np.random.randint(1000000))+\".txt\"\n",
    "    f = open(filename, \"w\")\n",
    "    f.write(str(dim)+str(\",\")+str(num_of_runs)+\"\\n\")\n",
    "    for key in avg_cells.keys():\n",
    "        value = avg_cells[key]\n",
    "        f.write(str(key)+ str(\",\")+str(sum(value)/len(value))+\"\\n\")\n",
    "    print(\"done. file: \",filename)"
   ]
  },
  {
   "cell_type": "code",
   "execution_count": 15,
   "metadata": {},
   "outputs": [
    {
     "name": "stdout",
     "output_type": "stream",
     "text": [
      "probabilities:  [0.    0.025 0.05  0.075 0.1   0.125 0.15  0.175 0.2  ]\n",
      "done. file:  ./results/Q6/q6_avg_cells_10055.txt\n"
     ]
    }
   ],
   "source": [
    "getAvgNumberOfCellsProcessed(101,0.0,0.225,0.025,30) # dimension of matrix, probability low, probability high, step size, number of runs"
   ]
  },
  {
   "cell_type": "code",
   "execution_count": null,
   "metadata": {},
   "outputs": [],
   "source": []
  }
 ],
 "metadata": {
  "kernelspec": {
   "display_name": "Python 3",
   "language": "python",
   "name": "python3"
  },
  "language_info": {
   "codemirror_mode": {
    "name": "ipython",
    "version": 3
   },
   "file_extension": ".py",
   "mimetype": "text/x-python",
   "name": "python",
   "nbconvert_exporter": "python",
   "pygments_lexer": "ipython3",
   "version": "3.8.5"
  }
 },
 "nbformat": 4,
 "nbformat_minor": 4
}
