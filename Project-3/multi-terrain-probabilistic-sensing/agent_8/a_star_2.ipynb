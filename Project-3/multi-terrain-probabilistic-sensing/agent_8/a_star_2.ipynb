{
 "cells": [
  {
   "cell_type": "code",
   "execution_count": 130,
   "metadata": {},
   "outputs": [],
   "source": [
    "import numpy as np\n",
    "import matplotlib.pyplot as plt\n",
    "from matplotlib import colors"
   ]
  },
  {
   "cell_type": "code",
   "execution_count": 131,
   "metadata": {},
   "outputs": [],
   "source": [
    "grid =[]\n",
    "gofn ={}\n",
    "hofn ={}\n",
    "parent_dict = {}\n",
    "visited =[]\n",
    "maze_size = 0"
   ]
  },
  {
   "cell_type": "code",
   "execution_count": 132,
   "metadata": {},
   "outputs": [],
   "source": [
    "def populateMatrix(n,p):\n",
    "    \"\"\"\n",
    "    This function returns randomly populated maze\n",
    "    p: probabillity density of each cell\n",
    "    n: size of the maze\n",
    "    \"\"\"\n",
    "    global grid\n",
    "    np_array = np.random.rand(n*n)\n",
    "    block = lambda x: 0 if x>=p else 1\n",
    "    vectorized_block = np.vectorize(block)\n",
    "    np_array = vectorized_block(np_array).reshape(n,n)\n",
    "    np_array[0,0]=0\n",
    "    np_array[n-1,n-1] =0\n",
    "    grid = np.asmatrix(np_array)"
   ]
  },
  {
   "cell_type": "code",
   "execution_count": 133,
   "metadata": {},
   "outputs": [],
   "source": [
    "def initialize(n,p):\n",
    "    global maze_size\n",
    "    global gofn\n",
    "    global hofn\n",
    "    global parent_dict\n",
    "    global visited\n",
    "    \n",
    "    gofn ={}\n",
    "    hofn = {}\n",
    "    parent_dict = {}\n",
    "    maze_size = n\n",
    "    visited = []\n",
    "    populateMatrix(n,p)"
   ]
  },
  {
   "cell_type": "code",
   "execution_count": 134,
   "metadata": {},
   "outputs": [],
   "source": [
    "def manhattan_distance_calc(x1, y1, x2, y2):\n",
    "    \"\"\"\n",
    "    This function returns manhattan distance for every cell\n",
    "    i: row value\n",
    "    j: column value\n",
    "    n: size of the maze\n",
    "    \"\"\"\n",
    "    return abs(x1 - x2) + abs(y1 - y2)\n"
   ]
  },
  {
   "cell_type": "code",
   "execution_count": 135,
   "metadata": {},
   "outputs": [],
   "source": [
    "def get_children(x, y, n,visited, matrix):\n",
    "    \"\"\"\n",
    "    This function is used to return children of a particular node\n",
    "    x: row value of current node\n",
    "    y: column value of current node\n",
    "    n: size of maze\n",
    "    gofn: g(n) value of current node\n",
    "    visited_list: list of nodes that are already visited\n",
    "    matrix: maze\n",
    "    agent_matrix: matrix of the agent that holds the information of updated environment\n",
    "    \"\"\"\n",
    "    allChildren = [(x+1,y),#down\n",
    "                   (x-1,y),#up\n",
    "                   (x,y+1),#right\n",
    "                   (x,y-1)]#left\n",
    "    \n",
    "    if x+1 > n-1:\n",
    "        allChildren.remove((x+1,y))\n",
    "    if x-1 < 0:\n",
    "        allChildren.remove((x-1,y))\n",
    "    if y+1 > n-1:\n",
    "        allChildren.remove((x,y+1))\n",
    "    if y-1 < 0:\n",
    "        allChildren.remove((x,y-1))\n",
    "        \n",
    "    allChildren = [node for node in allChildren if node not in visited]\n",
    "    \n",
    "    allChildren = [node for node in allChildren if matrix[node]!=1]\n",
    "    \n",
    "\n",
    "    return allChildren"
   ]
  },
  {
   "cell_type": "code",
   "execution_count": 136,
   "metadata": {},
   "outputs": [],
   "source": [
    "def set_parent(children,parent):\n",
    "    global parent_dict\n",
    "    for child in children:\n",
    "        parent_dict[child] = parent"
   ]
  },
  {
   "cell_type": "code",
   "execution_count": 137,
   "metadata": {},
   "outputs": [],
   "source": [
    "def update_gofn(children, parent):\n",
    "    global gofn\n",
    "    \n",
    "    for child in children:\n",
    "        gofn[child] = gofn[parent] +1"
   ]
  },
  {
   "cell_type": "code",
   "execution_count": 138,
   "metadata": {},
   "outputs": [],
   "source": [
    "def update_hofn(children, goal):\n",
    "    global hofn\n",
    "    \n",
    "    for child in children:\n",
    "        hofn[child] = manhattan_distance_calc(child[0],child[1],goal[0],goal[1])"
   ]
  },
  {
   "cell_type": "code",
   "execution_count": 139,
   "metadata": {},
   "outputs": [],
   "source": [
    "def get_path_to_goal(source,node):\n",
    "    global parent_dict\n",
    "    \n",
    "    path =[]\n",
    "    while(node!=source):\n",
    "        path.append(node)\n",
    "        node = parent_dict[node]\n",
    "    path.append(source)\n",
    "    return path"
   ]
  },
  {
   "cell_type": "code",
   "execution_count": 140,
   "metadata": {},
   "outputs": [],
   "source": [
    "def display2(trajectory_path,matrix):\n",
    "    \"\"\"\n",
    "    This function is used to display maze with traversed path(highlighted)\n",
    "    trajectory_path: path traversed by the agent so far\n",
    "    matrix: maze of the problem\n",
    "    \"\"\"\n",
    "    temp = matrix.copy()\n",
    "    for path in trajectory_path:\n",
    "        temp[path[:2]] = 2\n",
    "    colormap = colors.ListedColormap([\"white\",\"black\",\"green\"])\n",
    "    plt.imshow(temp, cmap=colormap)\n",
    "    plt.show()"
   ]
  },
  {
   "cell_type": "code",
   "execution_count": 171,
   "metadata": {},
   "outputs": [],
   "source": [
    "def astar(source, goal, matrix):\n",
    "    global maze_size\n",
    "    global gofn\n",
    "    global hofn\n",
    "    global parent_dict\n",
    "    global visited\n",
    "    \n",
    "    Q = {}\n",
    "    Q[source] = 0\n",
    "    parent_dict[source] = source\n",
    "    gofn[source] = 0\n",
    "    goal_reached = False\n",
    "    \n",
    "    while not goal_reached and Q:\n",
    "        Q = dict(sorted(Q.items(), key=lambda item: item[1]))\n",
    "        current = list(Q)[0]\n",
    "        Q.pop(current)\n",
    "        visited.append(current)\n",
    "        \n",
    "        if(current == goal):\n",
    "            goal_reached = True\n",
    "            return get_path_to_goal(source,current)[::-1]\n",
    "        \n",
    "        children = get_children(current[0],current[1],maze_size,visited, matrix)\n",
    "        set_parent(children, current)\n",
    "        update_gofn(children,current)\n",
    "        update_hofn(children, goal)\n",
    "        for child in children:\n",
    "            Q[child] = gofn[child] + hofn[child]\n",
    "    return []"
   ]
  },
  {
   "cell_type": "code",
   "execution_count": 172,
   "metadata": {},
   "outputs": [
    {
     "data": {
      "text/plain": [
       "<matplotlib.image.AxesImage at 0x7fbd8b15dc40>"
      ]
     },
     "execution_count": 172,
     "metadata": {},
     "output_type": "execute_result"
    },
    {
     "data": {
      "image/png": "[encoded data removed]",
      "text/plain": [
       "<Figure size 432x288 with 1 Axes>"
      ]
     },
     "metadata": {
      "needs_background": "light"
     },
     "output_type": "display_data"
    }
   ],
   "source": [
    "# initialize(5,0.3)\n",
    "# print(maze_size)\n",
    "# plt.spy(grid)"
   ]
  },
  {
   "cell_type": "code",
   "execution_count": 173,
   "metadata": {},
   "outputs": [],
   "source": [
    "# path = astar((1,0),(3,4),grid)"
   ]
  },
  {
   "cell_type": "code",
   "execution_count": 174,
   "metadata": {},
   "outputs": [
    {
     "data": {
      "image/png": "[encoded data removed]",
      "text/plain": [
       "<Figure size 432x288 with 1 Axes>"
      ]
     },
     "metadata": {
      "needs_background": "light"
     },
     "output_type": "display_data"
    }
   ],
   "source": [
    "# display2(path,grid)"
   ]
  },
  {
   "cell_type": "code",
   "execution_count": 175,
   "metadata": {},
   "outputs": [
    {
     "data": {
      "text/plain": [
       "[(1, 0), (2, 0), (2, 1), (2, 2), (2, 3), (2, 4), (3, 4)]"
      ]
     },
     "execution_count": 175,
     "metadata": {},
     "output_type": "execute_result"
    }
   ],
   "source": [
    "# path"
   ]
  },
  {
   "cell_type": "code",
   "execution_count": null,
   "metadata": {},
   "outputs": [],
   "source": []
  }
 ],
 "metadata": {
  "kernelspec": {
   "display_name": "Python 3 (ipykernel)",
   "language": "python",
   "name": "python3"
  },
  "language_info": {
   "codemirror_mode": {
    "name": "ipython",
    "version": 3
   },
   "file_extension": ".py",
   "mimetype": "text/x-python",
   "name": "python",
   "nbconvert_exporter": "python",
   "pygments_lexer": "ipython3",
   "version": "3.7.10"
  }
 },
 "nbformat": 4,
 "nbformat_minor": 4
}
