{
 "cells": [
  {
   "cell_type": "markdown",
   "metadata": {},
   "source": [
    "# Multi terrain probabistic sensing"
   ]
  },
  {
   "cell_type": "markdown",
   "metadata": {},
   "source": [
    "# About this file\n",
    "\n",
    "This file is to use the functionalities of the classes defined in the other file.\n",
    "\n",
    "## Legend:\n",
    "White -> FLAT<br>\n",
    "Light grey-> HILLY<br>\n",
    "Dark grey->FOREST<br>\n",
    "Black-> BLOCK\n"
   ]
  },
  {
   "cell_type": "code",
   "execution_count": 1,
   "metadata": {},
   "outputs": [],
   "source": [
    "# %run a_star_2.ipynb\n",
    "%run a_star.ipynb\n",
    "%run agent_9.ipynb\n",
    "import numpy as np\n",
    "import random\n",
    "from matplotlib import cm\n",
    "import pandas as pd"
   ]
  },
  {
   "cell_type": "markdown",
   "metadata": {},
   "source": [
    "# Code for Agent 6 goes here"
   ]
  },
  {
   "cell_type": "code",
   "execution_count": 2,
   "metadata": {},
   "outputs": [],
   "source": [
    "def display2(matrix):\n",
    "    \"\"\"\n",
    "    This function is used to display maze with traversed path(highlighted)\n",
    "    trajectory_path: path traversed by the agent so far\n",
    "    matrix: maze of the problem\n",
    "    \"\"\"\n",
    "    temp = matrix.copy()\n",
    "    colormap = cm.get_cmap(\"Greys\")\n",
    "    plt.imshow(temp, cmap=colormap)\n",
    "    plt.show()"
   ]
  },
  {
   "cell_type": "code",
   "execution_count": 3,
   "metadata": {},
   "outputs": [],
   "source": [
    "def run_agent_6(agent9, maze):\n",
    "#     print(\"Agent9 started.\\nMaze Size: \",maze_size,\" Source: \",maze.source,\" Target: \",maze.target)\n",
    "    source = maze.source\n",
    "    target = maze.target\n",
    "    terrain_matrix = maze.terrain_matrix\n",
    "    full_grid_world_matrix = maze.full_grid_world_matrix\n",
    "    agent_gridworld = agent9.agent_gridworld\n",
    "    valid = []\n",
    "    \n",
    "    # counters\n",
    "    examining_count = 0\n",
    "    number_of_agent_moves = 0\n",
    "    number_of_target_moves = 0\n",
    "    message = \"\"\n",
    "    hilly_exam = 0\n",
    "    flat_exam = 0\n",
    "    forest_exam = 0\n",
    "\n",
    "    if source == target:\n",
    "        target_reached = True\n",
    "        message = 'found goal'\n",
    "        print(message)\n",
    "        return number_of_target_moves, number_of_agent_moves, examining_count, flat_exam, hilly_exam, forest_exam, message\n",
    "    else:\n",
    "        target_reached = False\n",
    "\n",
    "    while not target_reached:\n",
    "        initialize(maze_size,0.3)\n",
    "        current_target = agent9.getMaxProbabilityCell(source)\n",
    "        path = astar(source,current_target, agent9.agent_gridworld_0_1)[0]\n",
    "        if(len(path)==0):\n",
    "            agent9.agent_gridworld_0_1[current_target[0],current_target[1]] = 1\n",
    "            agent9.update_beliefs_when_xy_blocked(current_target[0], current_target[1], maze_size)\n",
    "            agent9.agent_gridworld.itemset(current_target,3)\n",
    "            maze.full_grid_world_matrix[current_target[0],current_target[1]] =1\n",
    "            maze.terrain_matrix[current_target[0],current_target[1]] = 3\n",
    "            message = \"There is no path to the target, try another grid\"\n",
    "            print(message)\n",
    "            break\n",
    "\n",
    "        for i in range(len(path)):\n",
    "\n",
    "\n",
    "            node = path[i]\n",
    "            number_of_agent_moves += 1\n",
    "            \n",
    "            #remove\n",
    "            if number_of_agent_moves > 500:\n",
    "                break\n",
    "\n",
    "            if full_grid_world_matrix.item(node) == 0:\n",
    "                terrain_type = terrain_matrix.item(node)\n",
    "                agent9.agent_gridworld.itemset(node, terrain_type)\n",
    "                if i == len(path)-1:\n",
    "                    examining_count += 1\n",
    "                    if terrain_type == 0:\n",
    "                        flat_exam += 1\n",
    "                    elif terrain_type == 1:\n",
    "                        hilly_exam += 1\n",
    "                    elif terrain_type == 2:\n",
    "                        forest_exam += 1\n",
    "                    if(agent9.examine(node, terrain_type, maze)):\n",
    "                        message = 'found goal'\n",
    "                        print(message)\n",
    "                        target_reached = True\n",
    "                        break\n",
    "                    else:\n",
    "                        #update probabiities when failed to be found and terrain type=terrain_matrix.item(node)\n",
    "                        current_target, type1, type2 = maze.target_moves(maze_size, node)\n",
    "                        number_of_target_moves += 1\n",
    "#                         source = node\n",
    "                        agent9.update_belief(maze, type1, type2)\n",
    "                        agent9.update_certainties(maze)\n",
    "                        source = path[i]\n",
    "                        break\n",
    "            elif full_grid_world_matrix.item(node) == 1:\n",
    "                agent9.agent_gridworld_0_1[node[0],node[1]] = 1\n",
    "                current_target, type1, type2 = maze.target_moves(maze_size, node)\n",
    "                number_of_target_moves += 1\n",
    "                print('node', node, ' is blocked and current_target is ', current_target)\n",
    "                print(\"\\n\")\n",
    "                agent9.update_beliefs_when_xy_blocked(node[0], node[1], maze_size)\n",
    "                agent9.update_belief(maze, type1, type2)\n",
    "                agent9.update_certainties(maze)\n",
    "                agent9.agent_gridworld.itemset(node,3)\n",
    "                source = path[i-1]\n",
    "                break\n",
    "        source = current_target\n",
    "    return number_of_target_moves, number_of_agent_moves, examining_count, flat_exam, hilly_exam, forest_exam, message\n"
   ]
  },
  {
   "cell_type": "markdown",
   "metadata": {},
   "source": [
    "# Main function"
   ]
  },
  {
   "cell_type": "code",
   "execution_count": 4,
   "metadata": {},
   "outputs": [
    {
     "name": "stdout",
     "output_type": "stream",
     "text": [
      "Maze size: 10 \n",
      "Source:  (2, 0) \n",
      "Target: (1, 6) \n",
      "maze:\n"
     ]
    },
    {
     "data": {
      "image/png": "[encoded data removed]",
      "text/plain": [
       "<Figure size 432x288 with 1 Axes>"
      ]
     },
     "metadata": {
      "needs_background": "light"
     },
     "output_type": "display_data"
    },
    {
     "name": "stdout",
     "output_type": "stream",
     "text": [
      "The next target to be visited is (2, 1)\n",
      "node (5, 0)  is blocked and current_target is  (4, 0)\n",
      "\n",
      "\n",
      "The next target to be visited is (1, 5)\n",
      "node (9, 6)  is blocked and current_target is  (8, 6)\n",
      "\n",
      "\n",
      "The next target to be visited is (6, 9)\n",
      "node (8, 7)  is blocked and current_target is  (7, 6)\n",
      "\n",
      "\n",
      "The next target to be visited is (7, 4)\n",
      "node (8, 5)  is blocked and current_target is  (8, 6)\n",
      "\n",
      "\n",
      "The next target to be visited is (0, 3)\n",
      "node (8, 8)  is blocked and current_target is  (7, 8)\n",
      "\n",
      "\n",
      "The next target to be visited is (3, 2)\n",
      "node (7, 9)  is blocked and current_target is  (8, 6)\n",
      "\n",
      "\n",
      "The next target to be visited is (1, 2)\n",
      "node (4, 9)  is blocked and current_target is  (5, 9)\n",
      "\n",
      "\n",
      "The next target to be visited is (1, 2)\n",
      "node (6, 7)  is blocked and current_target is  (6, 6)\n",
      "\n",
      "\n",
      "The next target to be visited is (1, 8)\n",
      "node (6, 5)  is blocked and current_target is  (5, 4)\n",
      "\n",
      "\n",
      "The next target to be visited is (1, 4)\n",
      "node (6, 4)  is blocked and current_target is  (8, 2)\n",
      "\n",
      "\n",
      "The next target to be visited is (1, 3)\n",
      "node (7, 4)  is blocked and current_target is  (6, 3)\n",
      "\n",
      "\n",
      "The next target to be visited is (0, 3)\n",
      "node (5, 8)  is blocked and current_target is  (5, 9)\n",
      "\n",
      "\n",
      "The next target to be visited is (3, 2)\n",
      "node (4, 7)  is blocked and current_target is  (8, 6)\n",
      "\n",
      "\n",
      "The next target to be visited is (1, 5)\n",
      "node (4, 6)  is blocked and current_target is  (8, 6)\n",
      "\n",
      "\n",
      "The next target to be visited is (0, 5)\n",
      "node (3, 8)  is blocked and current_target is  (3, 7)\n",
      "\n",
      "\n",
      "The next target to be visited is (1, 3)\n",
      "node (0, 9)  is blocked and current_target is  (8, 4)\n",
      "\n",
      "\n",
      "The next target to be visited is (1, 3)\n",
      "node (1, 8)  is blocked and current_target is  (2, 7)\n",
      "\n",
      "\n",
      "The next target to be visited is (0, 3)\n",
      "node (2, 6)  is blocked and current_target is  (8, 6)\n",
      "\n",
      "\n",
      "The next target to be visited is (1, 5)\n",
      "node (0, 8)  is blocked and current_target is  (8, 2)\n",
      "\n",
      "\n",
      "The next target to be visited is (1, 1)\n",
      "node (4, 4)  is blocked and current_target is  (5, 4)\n",
      "\n",
      "\n",
      "The next target to be visited is (0, 3)\n",
      "node (2, 5)  is blocked and current_target is  (3, 6)\n",
      "\n",
      "\n",
      "The next target to be visited is (1, 3)\n",
      "node (1, 4)  is blocked and current_target is  (2, 3)\n",
      "\n",
      "\n",
      "The next target to be visited is (0, 3)\n",
      "node (2, 2)  is blocked and current_target is  (1, 2)\n",
      "\n",
      "\n",
      "The next target to be visited is (1, 3)\n",
      "node (1, 3)  is blocked and current_target is  (2, 4)\n",
      "\n",
      "\n",
      "The next target to be visited is (1, 3)\n",
      "There is no path to the target, try another grid\n",
      "number_of_target_moves:  24\n",
      "number_of_agent_moves:  229\n",
      "examining_count:  0\n",
      "message:  There is no path to the target, try another grid\n"
     ]
    }
   ],
   "source": [
    "if __name__ == \"__main__\":\n",
    "#     columns = ['maze_size', 'number_of_agent_moves', 'number_of_target_moves', 'examining_count', 'flat_exam', \\\n",
    "# 'hilly_exam', 'forest_exam', 'message', 'flat_variance', 'hilly_variance', 'forest_variance']\n",
    "#     df = pd.DataFrame(columns=columns)\n",
    "\n",
    "    df = pd.read_csv('agent_9_output.csv')\n",
    "    for i in range(1):\n",
    "        #Initialize Maze\n",
    "        maze = gridworld(10)\n",
    "        maze_size = maze.maze_size\n",
    "\n",
    "        # set source and target\n",
    "        initialize(maze_size,0.3)\n",
    "    #     print(maze.source,maze.target, maze.full_grid_world_matrix)\n",
    "        path = astar(maze.source, maze.target, maze.full_grid_world_matrix)\n",
    "        while(len(path)==0):\n",
    "            print(\"finding valid source and target\")\n",
    "            maze.source, maze.target = maze.set_valid_source_target(maze_size)\n",
    "            initialize(maze_size,0.3)\n",
    "            path = astar(maze.source, maze.target, maze.full_grid_world_matrix)\n",
    "\n",
    "        # Initialize Agent 6\n",
    "        agent9 = agent_9(maze_size)\n",
    "\n",
    "        #Print all details\n",
    "        print(\"Maze size:\",maze_size,\"\\nSource: \",maze.source,\"\\nTarget:\",maze.target,\"\\nmaze:\")\n",
    "        display2(maze.terrain_matrix)\n",
    "        \n",
    "        #runnning Agent 6 on maze\n",
    "        number_of_target_moves, number_of_agent_moves, examining_count, flat_exam, hilly_exam, forest_exam, message = run_agent_6(agent9, maze)\n",
    "\n",
    "        print(\"number_of_target_moves: \", number_of_target_moves)\n",
    "        print(\"number_of_agent_moves: \", number_of_agent_moves)    \n",
    "        print(\"examining_count: \", examining_count)    \n",
    "        print(\"message: \", message)\n",
    "\n",
    "        if message == 'found goal':\n",
    "            to_append = [maze_size, number_of_agent_moves, number_of_target_moves, examining_count, \\\n",
    "                         flat_exam, hilly_exam, forest_exam, message]\n",
    "            df_length = len(df)\n",
    "            df.loc[df_length] = to_append\n",
    "            df.iloc[: , 1:].to_csv('agent_9_output.csv')"
   ]
  },
  {
   "cell_type": "code",
   "execution_count": 5,
   "metadata": {},
   "outputs": [
    {
     "data": {
      "image/png": "[encoded data removed]",
      "text/plain": [
       "<Figure size 432x288 with 1 Axes>"
      ]
     },
     "metadata": {
      "needs_background": "light"
     },
     "output_type": "display_data"
    }
   ],
   "source": [
    "display2(maze.full_grid_world_matrix)"
   ]
  },
  {
   "cell_type": "code",
   "execution_count": 6,
   "metadata": {},
   "outputs": [
    {
     "data": {
      "image/png": "[encoded data removed]",
      "text/plain": [
       "<Figure size 432x288 with 1 Axes>"
      ]
     },
     "metadata": {
      "needs_background": "light"
     },
     "output_type": "display_data"
    }
   ],
   "source": [
    "display2(agent9.agent_gridworld_0_1)"
   ]
  },
  {
   "cell_type": "code",
   "execution_count": 7,
   "metadata": {},
   "outputs": [
    {
     "data": {
      "text/plain": [
       "<matplotlib.image.AxesImage at 0x14c52a18d90>"
      ]
     },
     "execution_count": 7,
     "metadata": {},
     "output_type": "execute_result"
    },
    {
     "data": {
      "image/png": "[encoded data removed]",
      "text/plain": [
       "<Figure size 288x288 with 1 Axes>"
      ]
     },
     "metadata": {
      "needs_background": "light"
     },
     "output_type": "display_data"
    }
   ],
   "source": [
    "import matplotlib\n",
    "matplotlib.pyplot.matshow(agent9.certainty_matrix)"
   ]
  },
  {
   "cell_type": "code",
   "execution_count": 8,
   "metadata": {},
   "outputs": [
    {
     "data": {
      "image/png": "[encoded data removed]",
      "text/plain": [
       "<Figure size 432x288 with 1 Axes>"
      ]
     },
     "metadata": {
      "needs_background": "light"
     },
     "output_type": "display_data"
    }
   ],
   "source": [
    "display2(agent9.belief_matrix)"
   ]
  },
  {
   "cell_type": "code",
   "execution_count": 9,
   "metadata": {},
   "outputs": [
    {
     "data": {
      "image/png": "[encoded data removed]",
      "text/plain": [
       "<Figure size 432x288 with 1 Axes>"
      ]
     },
     "metadata": {
      "needs_background": "light"
     },
     "output_type": "display_data"
    }
   ],
   "source": [
    "display2(maze.terrain_matrix)"
   ]
  },
  {
   "cell_type": "code",
   "execution_count": null,
   "metadata": {},
   "outputs": [],
   "source": []
  }
 ],
 "metadata": {
  "kernelspec": {
   "display_name": "Python 3",
   "language": "python",
   "name": "python3"
  },
  "language_info": {
   "codemirror_mode": {
    "name": "ipython",
    "version": 3
   },
   "file_extension": ".py",
   "mimetype": "text/x-python",
   "name": "python",
   "nbconvert_exporter": "python",
   "pygments_lexer": "ipython3",
   "version": "3.8.8"
  }
 },
 "nbformat": 4,
 "nbformat_minor": 4
}
