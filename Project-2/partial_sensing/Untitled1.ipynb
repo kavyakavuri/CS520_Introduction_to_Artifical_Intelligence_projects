{
 "cells": [
  {
   "cell_type": "code",
   "execution_count": 2,
   "metadata": {},
   "outputs": [
    {
     "name": "stdout",
     "output_type": "stream",
     "text": [
      "-1 0\n",
      "1 0\n",
      "1 1\n",
      "1 -1\n",
      "-1 -1\n",
      "-1 1\n",
      "0 1\n",
      "0 -1\n"
     ]
    }
   ],
   "source": [
    "directions = [[-1, 0], [1, 0], [1, 1], [1, -1], [-1, -1], [-1, 1], [0, 1], [0, -1]]\n",
    "for x,y in directions:\n",
    "    print(x,y)"
   ]
  },
  {
   "cell_type": "code",
   "execution_count": 4,
   "metadata": {},
   "outputs": [],
   "source": [
    "import numpy as np"
   ]
  },
  {
   "cell_type": "code",
   "execution_count": 6,
   "metadata": {},
   "outputs": [],
   "source": [
    "helper_matrix = np.full((5, 5), 0)"
   ]
  },
  {
   "cell_type": "code",
   "execution_count": 8,
   "metadata": {},
   "outputs": [],
   "source": [
    "helper_matrix[0,0] = 2"
   ]
  },
  {
   "cell_type": "code",
   "execution_count": 5,
   "metadata": {},
   "outputs": [
    {
     "name": "stdout",
     "output_type": "stream",
     "text": [
      "<class 'list'>\n"
     ]
    },
    {
     "data": {
      "text/plain": [
       "tuple"
      ]
     },
     "execution_count": 5,
     "metadata": {},
     "output_type": "execute_result"
    }
   ],
   "source": [
    "a = [1,2,3]\n",
    "print(type(a))\n",
    "type(tuple(a))\n",
    "# set(tuple(a))"
   ]
  },
  {
   "cell_type": "code",
   "execution_count": 19,
   "metadata": {},
   "outputs": [
    {
     "data": {
      "image/png": "[encoded data removed]",
      "text/plain": [
       "<Figure size 432x288 with 1 Axes>"
      ]
     },
     "metadata": {
      "needs_background": "light"
     },
     "output_type": "display_data"
    }
   ],
   "source": [
    "import numpy as np\n",
    "import matplotlib.pyplot as plt\n",
    "\n",
    "#Avg Traj\n",
    "x = [0.1,0.125,0.15,0.175,0.2,0.225,0.25,0.275,0.3,0.325]\n",
    "agent3y = [23.82,29.25,39.40,45.2,57.07,68.16,81.29,94.36,122.75,161.9]\n",
    "agent2y=  [23.06,33.03,43.07,51.13,65.36,83.89,90.90,128.61,182.84,268.375]\n",
    "agent1y=  [19.78,24.68,29.75,35.92,43.07,51.04,56.21,70.8,99.26,142.05]\n",
    "plt.plot(x,agent3y,color='r',label='agent3')\n",
    "plt.plot(x,agent2y,color='g',label='agent2')\n",
    "plt.plot(x,agent1y,color='b',label='agent1')\n",
    "plt.legend()\n",
    "# plt.yticks(np.arange(min( min(agent1y),min(agent2y),min(agent3y) ) , max(max(agent1y),max(agent2y),max(agent3y))+20, 10))\n",
    "# plt.yticks(np.append(np.arange(278,520,5),np.arange(520,2790,80)))\n",
    "plt.show()"
   ]
  },
  {
   "cell_type": "code",
   "execution_count": 8,
   "metadata": {},
   "outputs": [
    {
     "data": {
      "text/plain": [
       "0.1"
      ]
     },
     "execution_count": 8,
     "metadata": {},
     "output_type": "execute_result"
    }
   ],
   "source": [
    "0.1,23.06896551724138\n",
    "0.125,33.03703703703704\n",
    "0.15,43.074074074074076\n",
    "0.175,51.13793103448276\n",
    "0.2,65.36\n",
    "0.225,83.89473684210526\n",
    "0.25,90.9047619047619\n",
    "0.275,128.61111111111111\n",
    "0.3,182.84615384615384\n",
    "0.325,268.375"
   ]
  },
  {
   "cell_type": "code",
   "execution_count": null,
   "metadata": {},
   "outputs": [],
   "source": []
  }
 ],
 "metadata": {
  "kernelspec": {
   "display_name": "Python 3",
   "language": "python",
   "name": "python3"
  },
  "language_info": {
   "codemirror_mode": {
    "name": "ipython",
    "version": 3
   },
   "file_extension": ".py",
   "mimetype": "text/x-python",
   "name": "python",
   "nbconvert_exporter": "python",
   "pygments_lexer": "ipython3",
   "version": "3.8.5"
  }
 },
 "nbformat": 4,
 "nbformat_minor": 4
}
