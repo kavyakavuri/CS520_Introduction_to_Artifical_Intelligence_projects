{
 "cells": [
  {
   "cell_type": "markdown",
   "metadata": {},
   "source": [
    "# A* Algo"
   ]
  },
  {
   "cell_type": "code",
   "execution_count": 50,
   "metadata": {},
   "outputs": [],
   "source": [
    "import numpy as np\n",
    "import matplotlib.pyplot as plt\n",
    "from matplotlib import colors\n",
    "import math\n",
    "import time\n",
    "\n",
    "n = 5\n",
    "p=0.3\n",
    "block_unblock_matrix = []\n",
    "agent_matrix = []\n",
    "parentDict = {}"
   ]
  },
  {
   "cell_type": "code",
   "execution_count": 51,
   "metadata": {},
   "outputs": [],
   "source": [
    "def euclidean_distance_calc(i, j, n):\n",
    "    return math.sqrt(((n - i)**2 + (n - j)**2))\n",
    "\n",
    "def chebyshev_distance_calc(i, j, n):\n",
    "    return max((n - i), (n - j))\n",
    "\n",
    "\n",
    "def manhattan_distance_calc(i, j, n):\n",
    "    return abs(n - i) + abs(n - j)\n",
    "\n",
    "def compute_hofn(n, heuristic):\n",
    "    \n",
    "    hofn_matrix = []\n",
    "    for i in range(n):\n",
    "        hofn_row = []\n",
    "        for j in range(n):\n",
    "            if heuristic == \"euclidean\":\n",
    "                dist = euclidean_distance_calc(i, j, n -1)\n",
    "            elif heuristic == \"chebyshev\":\n",
    "                dist = chebyshev_distance_calc(i, j, n -1)\n",
    "            elif heuristic == \"manhattan\":\n",
    "                dist = manhattan_distance_calc(i, j, n -1)\n",
    "            hofn_row.append(dist)\n",
    "        hofn_matrix.append(hofn_row)\n",
    "    return np.array(hofn_matrix)"
   ]
  },
  {
   "cell_type": "code",
   "execution_count": 52,
   "metadata": {},
   "outputs": [],
   "source": [
    "def populateMatrix(n,p):\n",
    "    global block_unblock_matrix\n",
    "    np_array = np.random.rand(n*n)\n",
    "    block = lambda x: 0 if x>=p else 1\n",
    "    vectorized_block = np.vectorize(block)\n",
    "    np_array = vectorized_block(np_array).reshape(n,n)\n",
    "    np_array[0,0]=0\n",
    "    np_array[n-1,n-1] =0\n",
    "    block_unblock_matrix = np.asmatrix(np_array)\n",
    "#     plt.spy(block_unblock_matrix)\n",
    "\n",
    "#############testing on hard coded matrix ###########\n",
    "# block_unblock_matrix = [[0, 0, 0, 0, 0],\n",
    "#         [0, 0, 0, 0, 0],\n",
    "#         [0, 0, 0, 0, 0],\n",
    "#         [0, 1, 0, 0, 0],\n",
    "#         [1, 0, 0, 1, 0]]\n",
    "#######################################\n",
    "# populateMatrix(n,p)\n",
    "# block_unblock_matrix = np.matrix(block_unblock_matrix)\n"
   ]
  },
  {
   "cell_type": "code",
   "execution_count": 53,
   "metadata": {},
   "outputs": [],
   "source": [
    "def initialize(dim,p):\n",
    "    global agent_matrix\n",
    "    global n\n",
    "    global parentDict\n",
    "    n = dim\n",
    "    block_unblock_matrix = []\n",
    "    np_array = np.zeros((n,n), dtype=int)\n",
    "    agent_matrix = np.asmatrix(np_array)\n",
    "    parentDict = {}\n",
    "    populateMatrix(n,p)"
   ]
  },
  {
   "cell_type": "code",
   "execution_count": 54,
   "metadata": {},
   "outputs": [],
   "source": [
    "# initialize(5,0.2)"
   ]
  },
  {
   "cell_type": "code",
   "execution_count": 55,
   "metadata": {},
   "outputs": [],
   "source": [
    "def compute_gofn(n):\n",
    "    k = 0\n",
    "    gofn = []\n",
    "    one_row = []\n",
    "    for j in range(n):\n",
    "        one_row.append(k)\n",
    "        k += 1\n",
    "    gofn.append(one_row)\n",
    "    for i in range(n-1):\n",
    "        one_row = [x+1 for x in one_row]\n",
    "        gofn.append(one_row)\n",
    "\n",
    "    gofn_matrix = np.array([np.array(xi) for xi in gofn])\n",
    "    return gofn_matrix"
   ]
  },
  {
   "cell_type": "code",
   "execution_count": 56,
   "metadata": {},
   "outputs": [],
   "source": [
    "def get_gofn(gofn_matrix, row, col):\n",
    "    return gofn_matrix[row][col]"
   ]
  },
  {
   "cell_type": "code",
   "execution_count": 57,
   "metadata": {},
   "outputs": [],
   "source": [
    "def get_hofn(hofn_matrix, row, col):\n",
    "    return hofn_matrix[row][col]"
   ]
  },
  {
   "cell_type": "code",
   "execution_count": 58,
   "metadata": {},
   "outputs": [],
   "source": [
    "def get_children(matrix, x, y, n, gofn, visited_list):\n",
    "    allChildren = [(x+1,y,gofn+1),#down\n",
    "                   (x-1,y,gofn+1),#up\n",
    "                   (x,y+1,gofn+1),#right\n",
    "                   (x,y-1,gofn+1)]#left\n",
    "    if x+1 > n-1:\n",
    "        allChildren.remove((x+1,y,gofn+1))\n",
    "    if x-1 < 0:\n",
    "        allChildren.remove((x-1,y,gofn+1))\n",
    "    if y+1 > n-1:\n",
    "        allChildren.remove((x,y+1,gofn+1))\n",
    "    if y-1 < 0:\n",
    "        allChildren.remove((x,y-1,gofn+1))\n",
    "    allChildren = [node for node in allChildren if node[:2] not in visited_list]\n",
    "    \n",
    "    return allChildren"
   ]
  },
  {
   "cell_type": "code",
   "execution_count": 59,
   "metadata": {},
   "outputs": [],
   "source": [
    "def sort(open_list, gofn_matrix, hofn_matrix):\n",
    "    sort_dict = {}\n",
    "    for node in open_list:\n",
    "        row = node[0]\n",
    "        col = node[1]\n",
    "        gofn = gofn_matrix.item(row,col)\n",
    "        hofn = hofn_matrix.item(row,col)\n",
    "#         print(\"node\", node, \" - gofn: \", gofn,  \" - hofn: \", hofn)\n",
    "        sort_dict[node] = hofn\n",
    "        \n",
    "        sort_dict = dict(sorted(sort_dict.items(), key=lambda item: item[1]))\n",
    "    return sort_dict"
   ]
  },
  {
   "cell_type": "code",
   "execution_count": 60,
   "metadata": {},
   "outputs": [],
   "source": [
    "def display(trajectory_path):\n",
    "    np_array = np.zeros((n,n), dtype=int)\n",
    "#     np_array = populateMatrix(n,0)\n",
    "    final_display_matrix = np.asmatrix(np_array)\n",
    "    for path in trajectory_path:\n",
    "        final_display_matrix[path[:2]] = 1\n",
    "    colormap = colors.ListedColormap([\"white\",\"green\"])\n",
    "    plt.imshow(final_display_matrix, cmap=colormap)\n",
    "    plt.show()"
   ]
  },
  {
   "cell_type": "code",
   "execution_count": 61,
   "metadata": {},
   "outputs": [],
   "source": [
    "def display2(trajectory_path,matrix):\n",
    "   \n",
    "    temp = matrix.copy()\n",
    "    for path in trajectory_path:\n",
    "        temp[path[:2]] = 2\n",
    "    colormap = colors.ListedColormap([\"white\",\"black\",\"green\"])\n",
    "    plt.imshow(temp, cmap=colormap)\n",
    "    plt.show()"
   ]
  },
  {
   "cell_type": "code",
   "execution_count": 62,
   "metadata": {},
   "outputs": [],
   "source": [
    "def node_block_check(children_dict, block_unblock_matrix, current_node):\n",
    "    node_blocked = 0\n",
    "    node_removal_list = []\n",
    "#     for node in children_dict:\n",
    "    children_node_list = children_dict[current_node].copy()\n",
    "    for i in range(len(children_node_list)):\n",
    "        #checking if all children are blocked\n",
    "        if block_unblock_matrix.item(children_node_list[i]) == 1:\n",
    "            node_blocked += 1\n",
    "            children_dict[current_node].remove(children_node_list[i])\n",
    "        if node_blocked == len(children_node_list):\n",
    "            node_removal_list.append(current_node)\n",
    "    return node_removal_list"
   ]
  },
  {
   "cell_type": "code",
   "execution_count": 63,
   "metadata": {},
   "outputs": [],
   "source": [
    "def buildParentDict(children_dict):\n",
    "    global parentDict\n",
    "    for key in children_dict.keys():\n",
    "        for child in children_dict[key]:\n",
    "            parentDict[child] = key"
   ]
  },
  {
   "cell_type": "code",
   "execution_count": 64,
   "metadata": {},
   "outputs": [],
   "source": [
    "def getShortestPath(start):\n",
    "    path = [(n-1,n-1)]\n",
    "    node = (n-1,n-1)\n",
    "    start = start[:2]\n",
    "    while node != start:\n",
    "        path.append(parentDict[node])\n",
    "        node = parentDict[node]\n",
    "    return path"
   ]
  },
  {
   "cell_type": "code",
   "execution_count": 65,
   "metadata": {},
   "outputs": [],
   "source": [
    "def astar(start, matrix):\n",
    "    visited_list = []\n",
    "    open_list = []\n",
    "    trajectory_path = []\n",
    "    trajectory_plus_gofn = []\n",
    "    path_block = 0\n",
    "    children_dict = {}\n",
    "    i = 0\n",
    "    goal = (n-1, n-1)\n",
    "    num_of_cells_processed = 0\n",
    "\n",
    "    open_list.append(start)\n",
    "    gofn_matrix = compute_gofn(n)\n",
    "    hofn_matrix = compute_hofn(n, \"manhattan\")\n",
    "\n",
    "    while open_list:\n",
    "        child_list = []\n",
    "        current_node = open_list.pop(0)\n",
    "        num_of_cells_processed += 1\n",
    "        \n",
    "        if current_node[:2] not in visited_list:\n",
    "            visited_list.append(current_node[:2])\n",
    "        \n",
    "            if current_node[:2] not in trajectory_path: \n",
    "                trajectory_path.append(current_node[:2])\n",
    "                trajectory_plus_gofn.append(current_node)\n",
    "\n",
    "            if matrix.item(current_node[0], current_node[1]) == 0:\n",
    "                if current_node[0] == n-1 and current_node[1] == n-1:\n",
    "#                     print(\"Reached Goal!!!!!!!!!!!!!!!!!!!!!!!\")\n",
    "                    trajectory_plus_gofn.append(current_node)\n",
    "                    buildParentDict(children_dict)\n",
    "                    shortestPath = getShortestPath(start)\n",
    "                    return (trajectory_path,trajectory_plus_gofn,num_of_cells_processed,shortestPath)\n",
    "\n",
    "                children = get_children(matrix, current_node[0], current_node[1], n, current_node[2], visited_list)\n",
    "\n",
    "                for x in children:\n",
    "                    child_list.append(x[:2])\n",
    "                children_dict[current_node[:2]] = child_list\n",
    "                \n",
    "                for node in children:\n",
    "                    if node not in open_list:\n",
    "                        open_list.append(node)\n",
    "                sort_dict = sort(open_list, gofn_matrix, hofn_matrix)\n",
    "                open_list = list(sort_dict.keys())\n",
    "                node_removal_list = node_block_check(children_dict, agent_matrix, current_node[:2])\n",
    "                for node in node_removal_list:\n",
    "                    if node in trajectory_path:\n",
    "                        trajectory_path.remove(node)\n",
    "                        trajectory_plus_gofn = [i for i in trajectory_plus_gofn if i[:2] != node]\n",
    "\n",
    "            else:\n",
    "                if open_list == []:\n",
    "#                     print(\"There is no path available to goal Node**\")\n",
    "                    return ([],[], 0,[])\n",
    "                else:\n",
    "                    if current_node[:2] in trajectory_path:\n",
    "                        trajectory_path.remove(current_node[:2])\n",
    "                        trajectory_plus_gofn.remove(current_node)\n",
    "        else:\n",
    "            if open_list == []:\n",
    "#                     print(\"There is no path available to goal Node++\")\n",
    "                    return ([],[], 0,[])\n",
    "    return ([],[], 0,[])"
   ]
  },
  {
   "cell_type": "code",
   "execution_count": 66,
   "metadata": {},
   "outputs": [],
   "source": [
    "def repeated_astarq7():\n",
    "    global agent_matrix\n",
    "    \n",
    "#     initialize(dim,p)\n",
    "#     print(agent_matrix,block_unblock_matrix)\n",
    "    goal_reached = False\n",
    "    goal = (n-1,n-1)\n",
    "    path = []\n",
    "    final_path = [(0,0,0)]\n",
    "    trajectory_length = 0\n",
    "    num_of_cells =0\n",
    "    tot_time_planning = 0\n",
    "    \n",
    "    while not goal_reached:\n",
    "        start_time = time.time()\n",
    "        (path1,path2,astar_num_cells,shortest_path) = astar((final_path[-1][0],final_path[-1][1],0),agent_matrix)\n",
    "        tot_time_planning += (time.time() - start_time)\n",
    "        num_of_cells += astar_num_cells\n",
    "        if(path1 == []):\n",
    "            return (0,0,[])\n",
    "        \n",
    "        for node in path2:\n",
    "            if block_unblock_matrix[node[:2]] == 0:\n",
    "#                 print(\"node: \",node[:2],\" is unblocked\")\n",
    "                if node not in final_path:\n",
    "                    final_path.append(node)\n",
    "                    trajectory_length += 1\n",
    "                if node[:2] == goal:\n",
    "                    goal_reached = True\n",
    "                    break\n",
    "            else:\n",
    "                agent_matrix[node[:2]] = 1\n",
    "                trajectory_length += 2\n",
    "                break\n",
    "    trajectory_path ,_,_,shortest_path_final_discovered_gridworld= astar((0,0,0),agent_matrix)\n",
    "    return (trajectory_length, num_of_cells, shortest_path_final_discovered_gridworld, tot_time_planning)"
   ]
  },
  {
   "cell_type": "code",
   "execution_count": 67,
   "metadata": {},
   "outputs": [],
   "source": [
    "# import collections"
   ]
  },
  {
   "cell_type": "code",
   "execution_count": 68,
   "metadata": {},
   "outputs": [],
   "source": [
    "######## Repeated A* #####################\n",
    "# initialize(101,0.2)\n",
    "# p1,num,p2 = repeated_astar()\n",
    "# print(\"shortest path for repeated A*:\")\n",
    "# display2(p2,agent_matrix)\n",
    "# print(\"num: \",num)\n",
    "########## A* on full gridworld ###########\n",
    "# initialize(5,0.2)\n",
    "# print(\"A*: \")\n",
    "# (trajectory_path,_,_,shortest_path) = astar((0,0,0),block_unblock_matrix)\n",
    "# print(\"trajectory A*: \",trajectory_path)\n",
    "# display(trajectory_path)\n",
    "# print(\"shortest path A*: \",shortest_path)\n",
    "# display2(shortest_path,block_unblock_matrix)\n",
    "\n",
    "# if collections.Counter(p2) != collections.Counter(shortest_path):\n",
    "#     print(\"not same: \\n\")\n",
    "#     plt.spy(block_unblock_matrix)\n",
    "#     plt.spy(agent_matrix)\n",
    "#############################################\n",
    "# parentDict = {}\n",
    "############ A* on final discovered Gridworld ##########\n",
    "# print(\"A* on final discovered gridworld:\")\n",
    "# trajectory_path ,_,_,shortest_path= astar((0,0,0),agent_matrix)\n",
    "# print(\"trajectory_path for A* on final discovered world: \",trajectory_path)\n",
    "# display2(trajectory_path,agent_matrix)\n",
    "# print(\"shortest path for A* on final discovered world:\")\n",
    "# display2(shortest_path,agent_matrix)\n",
    "# print(\"shortest path: \",shortest_path)"
   ]
  },
  {
   "cell_type": "code",
   "execution_count": 69,
   "metadata": {},
   "outputs": [],
   "source": [
    "# block_unblock_matrix[block_unblock_matrix==0] = 1"
   ]
  },
  {
   "cell_type": "code",
   "execution_count": 70,
   "metadata": {},
   "outputs": [],
   "source": [
    "# initialize(5,0.3)\n",
    "# (trajectory_path,_,_,shortest_path) = astar((0,0,0),block_unblock_matrix)\n",
    "# print(trajectory_path)\n",
    "# display(trajectory_path)"
   ]
  },
  {
   "cell_type": "markdown",
   "metadata": {},
   "source": [
    "############## Testing for range of values n=101 ###############"
   ]
  },
  {
   "cell_type": "code",
   "execution_count": 71,
   "metadata": {},
   "outputs": [],
   "source": [
    "# # (trajectory_path,_,_,shortest_path) = astar((0,0,0),block_unblock_matrix)\n",
    "# # print(\"trajectory A*: \",trajectory_path)\n",
    "# # display(trajectory_path)\n",
    "# # print(\"shortest path A*: \",shortest_path)\n",
    "# # display(shortest_path)"
   ]
  }
 ],
 "metadata": {
  "kernelspec": {
   "display_name": "Python 3",
   "language": "python",
   "name": "python3"
  },
  "language_info": {
   "codemirror_mode": {
    "name": "ipython",
    "version": 3
   },
   "file_extension": ".py",
   "mimetype": "text/x-python",
   "name": "python",
   "nbconvert_exporter": "python",
   "pygments_lexer": "ipython3",
   "version": "3.8.5"
  }
 },
 "nbformat": 4,
 "nbformat_minor": 5
}
