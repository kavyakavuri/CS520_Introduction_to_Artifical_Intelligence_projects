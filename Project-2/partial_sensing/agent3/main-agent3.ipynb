{
 "cells": [
  {
   "cell_type": "markdown",
   "metadata": {},
   "source": [
    "# Partial Sensing"
   ]
  },
  {
   "cell_type": "markdown",
   "metadata": {},
   "source": [
    "# About this file\n",
    "\n",
    "This file is to use the functionalities of the classes defined in the other file.\n",
    "\n",
    "## Things to be done here\n",
    "1."
   ]
  },
  {
   "cell_type": "code",
   "execution_count": 1,
   "metadata": {},
   "outputs": [],
   "source": [
    "# %run project1.ipynb\n",
    "%run AStarShortestPathCopy1.ipynb\n",
    "import numpy as np\n",
    "import matplotlib.pyplot as plt\n",
    "import time\n",
    "%run partial_sensing_agent3.ipynb"
   ]
  },
  {
   "cell_type": "code",
   "execution_count": 2,
   "metadata": {},
   "outputs": [],
   "source": [
    "maze_size = 5\n",
    "p = 0.3\n",
    "\n",
    "helper_matrix = []\n",
    "full_grid_world_matrix = []\n",
    "agent_gridworld = []\n",
    "knowledge_base_agent3 =  []\n",
    "\n",
    "# object_matrix is used to store the inference/ knowledge base of objects(nodes) with it's respective indices\n"
   ]
  },
  {
   "cell_type": "code",
   "execution_count": 3,
   "metadata": {},
   "outputs": [],
   "source": [
    "def blockedNeighbors(n, row, col):\n",
    "    \n",
    "    global full_grid_world_matrix\n",
    "#     print(full_grid_world_matrix)\n",
    "    directions = [[-1, 0], [1, 0], [1, 1], [1, -1], [-1, -1], [-1, 1], [0, 1], [0, -1]]\n",
    "    \n",
    "    count = 0\n",
    "    if full_grid_world_matrix[row, col] == 1:\n",
    "        return -1\n",
    "    for x,y in directions:\n",
    "        row_new = row + x\n",
    "        col_new = col + y\n",
    "        if (row_new>=0 and row_new<=(n-1)) and (col_new>=0 and col_new<=(n-1)):\n",
    "            if full_grid_world_matrix[row_new, col_new] == 1:\n",
    "                count += 1\n",
    "    \n",
    "    return count\n",
    "\n",
    "def initialize_helper_matrix(n): \n",
    "#     dir = [[-1, 0], [1, 0], [1, 1], [1, -1], [-1, -1], [-1, 1], [0, 1], [0, -1]]\n",
    "    global helper_matrix\n",
    "    \n",
    "    for x in range(n):\n",
    "        for y in range(n):\n",
    "            count = blockedNeighbors(n, x, y)\n",
    "            helper_matrix[x,y] = count\n",
    "\n"
   ]
  },
  {
   "cell_type": "code",
   "execution_count": 4,
   "metadata": {},
   "outputs": [],
   "source": [
    "def initialize_all_matrices(p):\n",
    "    global full_grid_world_matrix\n",
    "    global helper_matrix\n",
    "    global maze_size\n",
    "    global block_unblock_matrix\n",
    "    global agent_gridworld\n",
    "    global knowledge_base_agent3\n",
    "    initialize(maze_size,p)\n",
    "    full_grid_world_matrix = block_unblock_matrix\n",
    "    agent_gridworld = np.full((maze_size, maze_size), 0)\n",
    "    ############ debugging #################\n",
    "#     full_grid_world_matrix = np.asmatrix([[0, 1, 0, 0, 0],\n",
    "#         [0, 1, 0, 1, 0],\n",
    "#         [0, 0, 0, 1, 0],\n",
    "#         [0, 0, 1, 1, 0],\n",
    "#         [0, 0, 0, 1, 0]])\n",
    "    #######################################\n",
    "    knowledge_base_agent3 = np.array([partial_sensing_agent3(int(item/maze_size),item%maze_size,maze_size) for item in range(maze_size * maze_size)]).reshape(maze_size, maze_size)\n",
    "    helper_matrix = np.full((maze_size, maze_size), 0)\n",
    "    initialize_helper_matrix(maze_size)\n",
    "\n",
    "# initialize_all_matrices(maze_size,p)"
   ]
  },
  {
   "cell_type": "code",
   "execution_count": 5,
   "metadata": {},
   "outputs": [],
   "source": [
    "def set_agent_gridworld_from_knowledge_base():\n",
    "    global maze_size\n",
    "    global agent_gridworld\n",
    "    global knowledge_base_agent3\n",
    "    \n",
    "    for i in range(maze_size):\n",
    "        for j in range(maze_size):\n",
    "            if knowledge_base_agent3.item((i,j)).state == 1:\n",
    "                agent_gridworld[i][j] = 1\n",
    "\n",
    "# call get_agent_gridworld_from_knowledge_base(object_matrix) -> returns a (maze_size*maze_size) np matrix with 0s, 1s\n",
    "# Now we can call astar() on agent_gridworld like this: astar(start, agent_gridworld)"
   ]
  },
  {
   "cell_type": "code",
   "execution_count": 6,
   "metadata": {},
   "outputs": [],
   "source": [
    "def infer(node, inferred):\n",
    "    global knowledge_base_agent3\n",
    "    row = node[0]\n",
    "    col = node[1]\n",
    "    if knowledge_base_agent3[row, col].Hx == 0:\n",
    "        return inferred\n",
    "    \n",
    "    if knowledge_base_agent3[row, col].Cx == knowledge_base_agent3[node].Bx:\n",
    "        knowledge_base_agent3[row, col].Ex += knowledge_base_agent3[node].Hx\n",
    "        knowledge_base_agent3[row, col].Hx = 0\n",
    "        uknown_neighbors = knowledge_base_agent3[row, col].get_unknown_neighbors(knowledge_base_agent3)\n",
    "        knowledge_base_agent3[row, col].set_unknown_neighbors_empty(knowledge_base_agent3)\n",
    "        for i in uknown_neighbors:\n",
    "            knowledge_base_agent3[i[0],i[0]].update_visited_neighbor_attributes(knowledge_base_agent3)\n",
    "        for i in uknown_neighbors:\n",
    "            for j in knowledge_base_agent3[i[0],i[0]].neighbor_list:\n",
    "                if knowledge_base_agent3[j[0],j[1]].visited == True:\n",
    "                    inferred += infer(j,inferred)\n",
    "        \n",
    "# update_visited_parent_attributes()\n",
    "    elif knowledge_base_agent3[row, col].Nx - knowledge_base_agent3[row, col].Cx == knowledge_base_agent3[row, col].Ex:\n",
    "        knowledge_base_agent3[row, col].Bx += knowledge_base_agent3[row, col].Hx\n",
    "        knowledge_base_agent3[row, col].Hx = 0\n",
    "        uknown_neighbors = knowledge_base_agent3[row, col].get_unknown_neighbors(knowledge_base_agent3)\n",
    "        inferred += len(uknown_neighbors)\n",
    "        knowledge_base_agent3[row, col].set_unknown_neighbors_blocked(knowledge_base_agent3)\n",
    "        for i in uknown_neighbors:\n",
    "            knowledge_base_agent3[i[0],i[1]].update_visited_neighbor_attributes(knowledge_base_agent3)\n",
    "        for i in uknown_neighbors:\n",
    "            for j in knowledge_base_agent3[i[0],i[1]].neighbor_list:\n",
    "                if knowledge_base_agent3[j[0],j[1]].visited == True:\n",
    "                    inferred += infer(j,inferred)\n",
    "    return inferred"
   ]
  },
  {
   "cell_type": "code",
   "execution_count": 7,
   "metadata": {},
   "outputs": [],
   "source": [
    "def display_knowledge_base_for_node(node):\n",
    "    global knowledge_base_agent3\n",
    "    \n",
    "    print(\"Knowledge for node: \",node,\"\\nNx = \",knowledge_base_agent3[node].Nx,\" | Cx = \",knowledge_base_agent3[node].Cx,\n",
    "         \" | Bx = \",knowledge_base_agent3[node].Bx,\" | Ex = \",knowledge_base_agent3[node].Ex,\n",
    "         \" | Hx = \",knowledge_base_agent3[node].Hx, \" | Visited = \",knowledge_base_agent3[node].visited,\n",
    "          \" | State = \",knowledge_base_agent3[node].state)"
   ]
  },
  {
   "cell_type": "code",
   "execution_count": 8,
   "metadata": {},
   "outputs": [],
   "source": [
    "def display_map(matrix):\n",
    "    \"\"\"\n",
    "    This function is used to display input map \n",
    "    \"\"\"\n",
    "    \n",
    "    final_display_matrix = np.copy(matrix)\n",
    "    colormap = colors.ListedColormap([\"white\",\"green\"])\n",
    "    plt.imshow(final_display_matrix, cmap=colormap)\n",
    "    plt.show()"
   ]
  },
  {
   "cell_type": "markdown",
   "metadata": {},
   "source": [
    "# Code for Agent 3 goes here"
   ]
  },
  {
   "cell_type": "code",
   "execution_count": 9,
   "metadata": {},
   "outputs": [],
   "source": [
    "def agent3():\n",
    "    global knowledge_base_agent3\n",
    "    global maze_size\n",
    "    global full_grid_world_matrix\n",
    "    global agent_gridworld\n",
    "    goal = (maze_size-1,maze_size-1)\n",
    "    source = (0,0,0)\n",
    "    goal_reached = False\n",
    "    trajectory_length = 0\n",
    "    num_of_cells_processed = 0\n",
    "    parent = ()\n",
    "    planning_time =0\n",
    "    bumped = 0\n",
    "    inferred = 0\n",
    "    \n",
    "    \n",
    "    while not goal_reached:\n",
    "        start_time = time.time()\n",
    "        _,_,astar_num_cells,path = astar(source,agent_gridworld)\n",
    "        planning_time += (time.time()-start_time)\n",
    "        num_of_cells_processed += astar_num_cells\n",
    "#         display2(path,agent_gridworld)\n",
    "        path.reverse()\n",
    "#         print(\"path:\", path )\n",
    "        if (len(path) == 0):\n",
    "            print(path)\n",
    "#             print(\"no path if condition\")\n",
    "            return [],0,0,0,0,0\n",
    "        for node in path:\n",
    "            row = node[0]\n",
    "            col = node[1]\n",
    "            if full_grid_world_matrix[row,col] == 1:\n",
    "                agent_gridworld[row,col]=1\n",
    "                knowledge_base_agent3[row,col].state = 1\n",
    "                trajectory_length += 2\n",
    "                bumped += 1\n",
    "                source = parent\n",
    "#                 print(\"hit block at: \",row,col, \"new source:\",source)\n",
    "                break\n",
    "                #ToDo path = astar(node->parent, agent_gridworld)\n",
    "                ##break ??\n",
    "            elif full_grid_world_matrix[row,col] == 0:\n",
    "                knowledge_base_agent3[row,col].visited = True\n",
    "                knowledge_base_agent3[row,col].state = 0\n",
    "                knowledge_base_agent3[row,col].update_visited_neighbor_attributes(knowledge_base_agent3)\n",
    "                trajectory_length += 1\n",
    "                parent = (row,col,0)\n",
    "#                 print(\"visited: \",row,col)\n",
    "                if node == goal:\n",
    "#                     print(\"found goal\")\n",
    "                    goal_reached = True\n",
    "                    set_agent_gridworld_from_knowledge_base()\n",
    "                    _,_,_,shortest_path_final_agent_gridworls = astar((0,0,0),agent_gridworld)\n",
    "                    return shortest_path_final_agent_gridworls, trajectory_length, num_of_cells_processed,planning_time,bumped,inferred\n",
    "\n",
    "                knowledge_base_agent3[row,col].update_attributes(maze_size,helper_matrix,knowledge_base_agent3)\n",
    "                \n",
    "                inferred += infer(node,inferred)\n",
    "#                 display2(path,agent_gridworld)\n",
    "#                 display_map(agent_gridworld)\n",
    "#                 print(agent_gridworld)\n",
    "#                 display_knowledge_base_for_node(node)\n",
    "                blocked_neighbors = knowledge_base_agent3[row,col].get_blocked_neighbors(knowledge_base_agent3)\n",
    "#                 print(blocked_neighbors,path)\n",
    "#                 print(\"type: \",type(blocked_neighbors),type(path))\n",
    "                if len(list(set(tuple(blocked_neighbors))& set(tuple(path)))) != 0:\n",
    "                    source = (node[0],node[1],0)\n",
    "                    set_agent_gridworld_from_knowledge_base()\n",
    "                    break\n",
    "    set_agent_gridworld_from_knowledge_base()\n",
    "#     print(\"*********agent: \",agent_gridworld)\n",
    "    _,_,_,shortest_path_final_agent_gridworld = astar((0,0,0),agent_gridworld)\n",
    "    return shortest_path_final_agent_gridworld, trajectory_length, num_of_cells_processed,planning_time,bumped,inferred"
   ]
  },
  {
   "cell_type": "code",
   "execution_count": 10,
   "metadata": {},
   "outputs": [],
   "source": [
    "# maze_size = 101\n",
    "# initialize_all_matrices(0.1)\n",
    "# plt.spy(full_grid_world_matrix)"
   ]
  },
  {
   "cell_type": "code",
   "execution_count": 11,
   "metadata": {},
   "outputs": [],
   "source": [
    "# shortest_path_agent3,traj_length, num_calls_processed,planning_time = agent3()\n",
    "# print(\"shortest path: \",shortest_path)\n",
    "# display2(shortest_path_agent3,agent_gridworld)\n",
    "# print(\"trajectory length: \", traj_length,\"\\nplanning time: \",planning_time)"
   ]
  },
  {
   "cell_type": "code",
   "execution_count": null,
   "metadata": {},
   "outputs": [],
   "source": []
  }
 ],
 "metadata": {
  "kernelspec": {
   "display_name": "Python 3",
   "language": "python",
   "name": "python3"
  },
  "language_info": {
   "codemirror_mode": {
    "name": "ipython",
    "version": 3
   },
   "file_extension": ".py",
   "mimetype": "text/x-python",
   "name": "python",
   "nbconvert_exporter": "python",
   "pygments_lexer": "ipython3",
   "version": "3.8.5"
  }
 },
 "nbformat": 4,
 "nbformat_minor": 4
}
