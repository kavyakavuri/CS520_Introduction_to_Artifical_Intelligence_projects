{
 "cells": [
  {
   "cell_type": "markdown",
   "metadata": {},
   "source": [
    "# Partial Sensing"
   ]
  },
  {
   "cell_type": "markdown",
   "metadata": {},
   "source": [
    "# About this file\n",
    "\n",
    "This file is to use the functionalities of the classes defined in the other file.\n",
    "\n",
    "## Things to be done here\n",
    "\n",
    "1) write algorithm for agent3, agent4 <br>\n",
    "2) if object_matrix is knowledge base, then lets rename it to knowledge base to avoid confusion and have unambiguous variable names.<br>\n",
    "3) Import A* code into this file.\n",
    "\n",
    "## Things done here\n",
    "\n",
    "1) declared the set of global variables required\n",
    "2) renamed object_matrix to knowledge_base"
   ]
  },
  {
   "cell_type": "code",
   "execution_count": 6,
   "metadata": {},
   "outputs": [],
   "source": [
    "%run project1.ipynb\n",
    "import numpy as np\n",
    "%run partial_sensing.ipynb"
   ]
  },
  {
   "cell_type": "code",
   "execution_count": 7,
   "metadata": {},
   "outputs": [],
   "source": [
    "maze_size = 10\n",
    "\n",
    "agent_matrix = np.full((maze_size, maze_size), -1)\n",
    "helper_matrix = np.full((maze_size, maze_size), 0)\n",
    "full_grid_world_matrix = np.full((maze_size, maze_size), 0)\n",
    "known_matrix = np.full((maze_size, maze_size), 0)\n",
    "visited_list = [] # list of node indices that are visited\n",
    "\n",
    "# object_matrix is used to store the inference/ knowledge base of objects(nodes) with it's respective indices\n",
    "knowledge_base = np.array([partial_sensing(int(item/maze_size),item%maze_size,maze_size) for item in range(maze_size * maze_size)]).reshape(maze_size, maze_size)"
   ]
  },
  {
   "cell_type": "code",
   "execution_count": 8,
   "metadata": {},
   "outputs": [],
   "source": [
    "dim=5\n",
    "p=0.3\n",
    "full_gridworld = []\n",
    "agent_gridworld = [] # known gridworld\n",
    "helper_matrix = []"
   ]
  },
  {
   "cell_type": "code",
   "execution_count": 9,
   "metadata": {},
   "outputs": [],
   "source": [
    "def initialize_agent_gridworld():\n",
    "    #blah\n",
    "    return"
   ]
  },
  {
   "cell_type": "code",
   "execution_count": 10,
   "metadata": {},
   "outputs": [],
   "source": [
    "def blockedNeighbors(n, row, col):\n",
    "    \n",
    "    global full_grid_world_matrix\n",
    "    dir = [[-1, 0], [1, 0], [1, 1], [1, -1], [-1, -1], [-1, 1], [0, 1], [0, -1]]\n",
    "    \n",
    "    count = 0\n",
    "    if full_grid_world_matrix[\n",
    "    for x, y in dir:\n",
    "        row_new = row + x\n",
    "        col_new = col + y\n",
    "        if (row_new>=0 and row_new<=(n-1)) and (col_new>=0 and col_new<=(n-1)):\n",
    "            if full_grid_world_matrix[row_new, col_new] == 1:\n",
    "                count += 1\n",
    "    \n",
    "    return count\n",
    "\n",
    "def initialize_helper_matrix(n):\n",
    "    \n",
    "    dir = [[-1, 0], [1, 0], [1, 1], [1, -1], [-1, -1], [-1, 1], [0, 1], [0, -1]]\n",
    "    global helper_matrix\n",
    "    for x in range(n):\n",
    "        for y in range(n):\n",
    "            count = blockedNeighbors(n, x, y)\n",
    "            helper_matrix[x,y] = count\n",
    "\n"
   ]
  },
  {
   "cell_type": "code",
   "execution_count": 11,
   "metadata": {},
   "outputs": [],
   "source": [
    "def initialize_all_matrices(dim,p):\n",
    "    global full_gridworld\n",
    "    global helper_matrix\n",
    "    global agent_gridworld\n",
    "    global maze_size\n",
    "    global block_unblock_matrix\n",
    "    initialize(dim,p)\n",
    "    full_gridworld = block_unblock_matrix\n",
    "    agent_gridworld = initialize_agent_gridworld()\n",
    "    helper_matrix = initialize_helper_matrix(maze_size)\n",
    "initialize_all_matrices(dim,p)"
   ]
  },
  {
   "cell_type": "code",
   "execution_count": 12,
   "metadata": {},
   "outputs": [],
   "source": [
    "def get_agent_gridworld_from_knowledge_base(object_matrix):\n",
    "    global maze_size\n",
    "    \n",
    "    agent_gridworld = np.zeros((maze_size, maze_size))\n",
    "    for i in range(maze_size):\n",
    "        for j in range(maze_size):\n",
    "            if object_matrix.item((i,j)).blocked == 1:\n",
    "                agent_gridworld[i][j] = 1\n",
    "    return agent_gridworld\n",
    "\n",
    "# call get_agent_gridworld_from_knowledge_base(object_matrix) -> returns a (maze_size*maze_size) np matrix with 0s, 1s\n",
    "# Now we can call astar() on agent_gridworld like this: astar(start, agent_gridworld)"
   ]
  },
  {
   "cell_type": "code",
   "execution_count": null,
   "metadata": {},
   "outputs": [],
   "source": [
    "def getNx(row, col, n):\n",
    "    if (row ==0  and col == 0) or (row == 0 and col == n-1) or (row==n-1 and col==0) or (row ==n-1 and col==n-1):\n",
    "        return 3\n",
    "    \n",
    "    elif row == 0 or col == 0 or col == n-1 or row == n-1:\n",
    "        return 5\n",
    "    else:\n",
    "        return 8"
   ]
  },
  {
   "cell_type": "code",
   "execution_count": null,
   "metadata": {},
   "outputs": [],
   "source": [
    "def update_attributes(node,n):\n",
    "    knowledge_base[node].Nx = getNx(node[0],node[1],n)\n",
    "    knowledge_base[node].Cx = helper_matrix[node]\n",
    "    ##ToDo:\n",
    "    #knowledge_base[node].Hx = \n",
    "    #knowledge_base[node].Bx = 0\n",
    "    #knowledge_base[node].Ex = 0"
   ]
  },
  {
   "cell_type": "markdown",
   "metadata": {},
   "source": [
    "# Code for Agent 3 goes here"
   ]
  },
  {
   "cell_type": "code",
   "execution_count": 13,
   "metadata": {},
   "outputs": [],
   "source": [
    "def agent3(n):\n",
    "    goal = (n-1,n-1)\n",
    "    source = (0,0,0)\n",
    "    _,_,_,path = astar(source,agent_gridworld)\n",
    "    knowledge_base[0,0].state = 0\n",
    "    for node in path:\n",
    "        knowledge_base[node].visited = true\n",
    "        knowledge_base[node].state = block_unblock_matrix[node]\n",
    "        if knowledge_base[node].state == 0:\n",
    "            \n",
    "            update_attributes(node,n)\n",
    "            \n",
    "            if knowledge_base[node].Hx != 0:\n",
    "                \n",
    "                if knowledge_base[node].Cx == knowledge_base[node].Bx:\n",
    "                    knowledge_base[node].Ex += knowledge_base[node].Hx\n",
    "                    knowledge_base[node].Hx = 0\n",
    "                    #ToDo: set all unknown neighbour to Empty\n",
    "                \n",
    "                if knowledge_base[node].Nx - knowledge_base[node].Cx = knowledge_base[node].Ex:\n",
    "                    knowledge_base[node].Bx += knowledge_base[node].Hx\n",
    "                    knowledge_base[node].Hx = 0\n",
    "                    #ToDo: set all unknown neighbour to Blocked\n",
    "                    # check if those blocked cells are in \"path\" ,if yes, then replan-> call astar\n",
    "                \n",
    "                #ToDo: update attributes of parent recursively\n",
    "        \n",
    "                \n",
    "        else:\n",
    "            agent_gridworld[node]=1\n",
    "            knowledge_base[node].state = 1\n",
    "            #ToDo path = astar(node->parent, agent_gridworld)\n",
    "            ##break ??"
   ]
  },
  {
   "cell_type": "markdown",
   "metadata": {},
   "source": [
    "# Code for Agent 4 (our agent) goes here"
   ]
  },
  {
   "cell_type": "code",
   "execution_count": 14,
   "metadata": {},
   "outputs": [],
   "source": [
    "def agent4(): # using this name for the lack of a better name. please change.\n",
    "    source = (0,0,0)\n",
    "    _,_,_,path = astar(source,agent_gridworld)\n",
    "    goal_reached = False\n",
    "    \n",
    "    \n",
    "    while not goal_reached:\n",
    "        for node in path:\n",
    "            if full_gridworld[node] == 0:\n",
    "                #do something\n",
    "                break\n",
    "            else:\n",
    "                #do something\n",
    "                break\n",
    "    return"
   ]
  },
  {
   "cell_type": "code",
   "execution_count": null,
   "metadata": {},
   "outputs": [],
   "source": []
  }
 ],
 "metadata": {
  "kernelspec": {
   "display_name": "Python 3",
   "language": "python",
   "name": "python3"
  },
  "language_info": {
   "codemirror_mode": {
    "name": "ipython",
    "version": 3
   },
   "file_extension": ".py",
   "mimetype": "text/x-python",
   "name": "python",
   "nbconvert_exporter": "python",
   "pygments_lexer": "ipython3",
   "version": "3.8.5"
  }
 },
 "nbformat": 4,
 "nbformat_minor": 4
}
