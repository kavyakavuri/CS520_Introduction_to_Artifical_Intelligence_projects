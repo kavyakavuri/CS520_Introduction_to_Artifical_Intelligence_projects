{
 "cells": [
  {
   "cell_type": "markdown",
   "metadata": {},
   "source": [
    "# Partial Sensing"
   ]
  },
  {
   "cell_type": "markdown",
   "metadata": {},
   "source": [
    "# About this file\n",
    "\n",
    "This file is to use the functionalities of the classes defined in the other file.\n",
    "\n",
    "## Things to be done here\n",
    "\n",
    "1) write algorithm for agent3, agent4 <br>\n",
    "2) if object_matrix is knowledge base, then lets rename it to knowledge base to avoid confusion and have unambiguous variable names.<br>\n",
    "3) Import A* code into this file.\n",
    "\n",
    "## Things done here\n",
    "\n",
    "1) declared the set of global variables required\n",
    "2) renamed object_matrix to knowledge_base"
   ]
  },
  {
   "cell_type": "code",
   "execution_count": 5,
   "metadata": {},
   "outputs": [
    {
     "ename": "Exception",
     "evalue": "File `'partial_sensing_agent3.ipynb.py'` not found.",
     "output_type": "error",
     "traceback": [
      "\u001b[0;31m---------------------------------------------------------------------------\u001b[0m",
      "\u001b[0;31mOSError\u001b[0m                                   Traceback (most recent call last)",
      "\u001b[0;32m/media/kavya/DATA/Ubuntu/home/anaconda3/lib/python3.8/site-packages/IPython/core/magics/execution.py\u001b[0m in \u001b[0;36mrun\u001b[0;34m(self, parameter_s, runner, file_finder)\u001b[0m\n\u001b[1;32m    702\u001b[0m             \u001b[0mfpath\u001b[0m \u001b[0;34m=\u001b[0m \u001b[0marg_lst\u001b[0m\u001b[0;34m[\u001b[0m\u001b[0;36m0\u001b[0m\u001b[0;34m]\u001b[0m\u001b[0;34m\u001b[0m\u001b[0;34m\u001b[0m\u001b[0m\n\u001b[0;32m--> 703\u001b[0;31m             \u001b[0mfilename\u001b[0m \u001b[0;34m=\u001b[0m \u001b[0mfile_finder\u001b[0m\u001b[0;34m(\u001b[0m\u001b[0mfpath\u001b[0m\u001b[0;34m)\u001b[0m\u001b[0;34m\u001b[0m\u001b[0;34m\u001b[0m\u001b[0m\n\u001b[0m\u001b[1;32m    704\u001b[0m         \u001b[0;32mexcept\u001b[0m \u001b[0mIndexError\u001b[0m\u001b[0;34m:\u001b[0m\u001b[0;34m\u001b[0m\u001b[0;34m\u001b[0m\u001b[0m\n",
      "\u001b[0;32m/media/kavya/DATA/Ubuntu/home/anaconda3/lib/python3.8/site-packages/IPython/utils/path.py\u001b[0m in \u001b[0;36mget_py_filename\u001b[0;34m(name, force_win32)\u001b[0m\n\u001b[1;32m    108\u001b[0m     \u001b[0;32melse\u001b[0m\u001b[0;34m:\u001b[0m\u001b[0;34m\u001b[0m\u001b[0;34m\u001b[0m\u001b[0m\n\u001b[0;32m--> 109\u001b[0;31m         \u001b[0;32mraise\u001b[0m \u001b[0mIOError\u001b[0m\u001b[0;34m(\u001b[0m\u001b[0;34m'File `%r` not found.'\u001b[0m \u001b[0;34m%\u001b[0m \u001b[0mname\u001b[0m\u001b[0;34m)\u001b[0m\u001b[0;34m\u001b[0m\u001b[0;34m\u001b[0m\u001b[0m\n\u001b[0m\u001b[1;32m    110\u001b[0m \u001b[0;34m\u001b[0m\u001b[0m\n",
      "\u001b[0;31mOSError\u001b[0m: File `'partial_sensing_agent3.ipynb.py'` not found.",
      "\nDuring handling of the above exception, another exception occurred:\n",
      "\u001b[0;31mException\u001b[0m                                 Traceback (most recent call last)",
      "\u001b[0;32m<ipython-input-5-78da9e8184f1>\u001b[0m in \u001b[0;36m<module>\u001b[0;34m\u001b[0m\n\u001b[1;32m      1\u001b[0m \u001b[0;31m# %run project1.ipynb\u001b[0m\u001b[0;34m\u001b[0m\u001b[0;34m\u001b[0m\u001b[0;34m\u001b[0m\u001b[0m\n\u001b[0;32m----> 2\u001b[0;31m \u001b[0mget_ipython\u001b[0m\u001b[0;34m(\u001b[0m\u001b[0;34m)\u001b[0m\u001b[0;34m.\u001b[0m\u001b[0mrun_line_magic\u001b[0m\u001b[0;34m(\u001b[0m\u001b[0;34m'run'\u001b[0m\u001b[0;34m,\u001b[0m \u001b[0;34m'partial_sensing_agent3.ipynb'\u001b[0m\u001b[0;34m)\u001b[0m\u001b[0;34m\u001b[0m\u001b[0;34m\u001b[0m\u001b[0m\n\u001b[0m\u001b[1;32m      3\u001b[0m \u001b[0;32mimport\u001b[0m \u001b[0mnumpy\u001b[0m \u001b[0;32mas\u001b[0m \u001b[0mnp\u001b[0m\u001b[0;34m\u001b[0m\u001b[0;34m\u001b[0m\u001b[0m\n\u001b[1;32m      4\u001b[0m \u001b[0;32mimport\u001b[0m \u001b[0mmatplotlib\u001b[0m\u001b[0;34m.\u001b[0m\u001b[0mpyplot\u001b[0m \u001b[0;32mas\u001b[0m \u001b[0mplt\u001b[0m\u001b[0;34m\u001b[0m\u001b[0;34m\u001b[0m\u001b[0m\n",
      "\u001b[0;32m/media/kavya/DATA/Ubuntu/home/anaconda3/lib/python3.8/site-packages/IPython/core/interactiveshell.py\u001b[0m in \u001b[0;36mrun_line_magic\u001b[0;34m(self, magic_name, line, _stack_depth)\u001b[0m\n\u001b[1;32m   2325\u001b[0m                 \u001b[0mkwargs\u001b[0m\u001b[0;34m[\u001b[0m\u001b[0;34m'local_ns'\u001b[0m\u001b[0;34m]\u001b[0m \u001b[0;34m=\u001b[0m \u001b[0mself\u001b[0m\u001b[0;34m.\u001b[0m\u001b[0mget_local_scope\u001b[0m\u001b[0;34m(\u001b[0m\u001b[0mstack_depth\u001b[0m\u001b[0;34m)\u001b[0m\u001b[0;34m\u001b[0m\u001b[0;34m\u001b[0m\u001b[0m\n\u001b[1;32m   2326\u001b[0m             \u001b[0;32mwith\u001b[0m \u001b[0mself\u001b[0m\u001b[0;34m.\u001b[0m\u001b[0mbuiltin_trap\u001b[0m\u001b[0;34m:\u001b[0m\u001b[0;34m\u001b[0m\u001b[0;34m\u001b[0m\u001b[0m\n\u001b[0;32m-> 2327\u001b[0;31m                 \u001b[0mresult\u001b[0m \u001b[0;34m=\u001b[0m \u001b[0mfn\u001b[0m\u001b[0;34m(\u001b[0m\u001b[0;34m*\u001b[0m\u001b[0margs\u001b[0m\u001b[0;34m,\u001b[0m \u001b[0;34m**\u001b[0m\u001b[0mkwargs\u001b[0m\u001b[0;34m)\u001b[0m\u001b[0;34m\u001b[0m\u001b[0;34m\u001b[0m\u001b[0m\n\u001b[0m\u001b[1;32m   2328\u001b[0m             \u001b[0;32mreturn\u001b[0m \u001b[0mresult\u001b[0m\u001b[0;34m\u001b[0m\u001b[0;34m\u001b[0m\u001b[0m\n\u001b[1;32m   2329\u001b[0m \u001b[0;34m\u001b[0m\u001b[0m\n",
      "\u001b[0;32m<decorator-gen-52>\u001b[0m in \u001b[0;36mrun\u001b[0;34m(self, parameter_s, runner, file_finder)\u001b[0m\n",
      "\u001b[0;32m/media/kavya/DATA/Ubuntu/home/anaconda3/lib/python3.8/site-packages/IPython/core/magic.py\u001b[0m in \u001b[0;36m<lambda>\u001b[0;34m(f, *a, **k)\u001b[0m\n\u001b[1;32m    185\u001b[0m     \u001b[0;31m# but it's overkill for just that one bit of state.\u001b[0m\u001b[0;34m\u001b[0m\u001b[0;34m\u001b[0m\u001b[0;34m\u001b[0m\u001b[0m\n\u001b[1;32m    186\u001b[0m     \u001b[0;32mdef\u001b[0m \u001b[0mmagic_deco\u001b[0m\u001b[0;34m(\u001b[0m\u001b[0marg\u001b[0m\u001b[0;34m)\u001b[0m\u001b[0;34m:\u001b[0m\u001b[0;34m\u001b[0m\u001b[0;34m\u001b[0m\u001b[0m\n\u001b[0;32m--> 187\u001b[0;31m         \u001b[0mcall\u001b[0m \u001b[0;34m=\u001b[0m \u001b[0;32mlambda\u001b[0m \u001b[0mf\u001b[0m\u001b[0;34m,\u001b[0m \u001b[0;34m*\u001b[0m\u001b[0ma\u001b[0m\u001b[0;34m,\u001b[0m \u001b[0;34m**\u001b[0m\u001b[0mk\u001b[0m\u001b[0;34m:\u001b[0m \u001b[0mf\u001b[0m\u001b[0;34m(\u001b[0m\u001b[0;34m*\u001b[0m\u001b[0ma\u001b[0m\u001b[0;34m,\u001b[0m \u001b[0;34m**\u001b[0m\u001b[0mk\u001b[0m\u001b[0;34m)\u001b[0m\u001b[0;34m\u001b[0m\u001b[0;34m\u001b[0m\u001b[0m\n\u001b[0m\u001b[1;32m    188\u001b[0m \u001b[0;34m\u001b[0m\u001b[0m\n\u001b[1;32m    189\u001b[0m         \u001b[0;32mif\u001b[0m \u001b[0mcallable\u001b[0m\u001b[0;34m(\u001b[0m\u001b[0marg\u001b[0m\u001b[0;34m)\u001b[0m\u001b[0;34m:\u001b[0m\u001b[0;34m\u001b[0m\u001b[0;34m\u001b[0m\u001b[0m\n",
      "\u001b[0;32m/media/kavya/DATA/Ubuntu/home/anaconda3/lib/python3.8/site-packages/IPython/core/magics/execution.py\u001b[0m in \u001b[0;36mrun\u001b[0;34m(self, parameter_s, runner, file_finder)\u001b[0m\n\u001b[1;32m    712\u001b[0m             \u001b[0;32mif\u001b[0m \u001b[0mos\u001b[0m\u001b[0;34m.\u001b[0m\u001b[0mname\u001b[0m \u001b[0;34m==\u001b[0m \u001b[0;34m'nt'\u001b[0m \u001b[0;32mand\u001b[0m \u001b[0mre\u001b[0m\u001b[0;34m.\u001b[0m\u001b[0mmatch\u001b[0m\u001b[0;34m(\u001b[0m\u001b[0;34mr\"^'.*'$\"\u001b[0m\u001b[0;34m,\u001b[0m\u001b[0mfpath\u001b[0m\u001b[0;34m)\u001b[0m\u001b[0;34m:\u001b[0m\u001b[0;34m\u001b[0m\u001b[0;34m\u001b[0m\u001b[0m\n\u001b[1;32m    713\u001b[0m                 \u001b[0mwarn\u001b[0m\u001b[0;34m(\u001b[0m\u001b[0;34m'For Windows, use double quotes to wrap a filename: %run \"mypath\\\\myfile.py\"'\u001b[0m\u001b[0;34m)\u001b[0m\u001b[0;34m\u001b[0m\u001b[0;34m\u001b[0m\u001b[0m\n\u001b[0;32m--> 714\u001b[0;31m             \u001b[0;32mraise\u001b[0m \u001b[0mException\u001b[0m\u001b[0;34m(\u001b[0m\u001b[0mmsg\u001b[0m\u001b[0;34m)\u001b[0m\u001b[0;34m\u001b[0m\u001b[0;34m\u001b[0m\u001b[0m\n\u001b[0m\u001b[1;32m    715\u001b[0m         \u001b[0;32mexcept\u001b[0m \u001b[0mTypeError\u001b[0m\u001b[0;34m:\u001b[0m\u001b[0;34m\u001b[0m\u001b[0;34m\u001b[0m\u001b[0m\n\u001b[1;32m    716\u001b[0m             \u001b[0;32mif\u001b[0m \u001b[0mfpath\u001b[0m \u001b[0;32min\u001b[0m \u001b[0msys\u001b[0m\u001b[0;34m.\u001b[0m\u001b[0mmeta_path\u001b[0m\u001b[0;34m:\u001b[0m\u001b[0;34m\u001b[0m\u001b[0;34m\u001b[0m\u001b[0m\n",
      "\u001b[0;31mException\u001b[0m: File `'partial_sensing_agent3.ipynb.py'` not found."
     ]
    }
   ],
   "source": [
    "%run project1.ipynb\n",
    "%run partial_sensing_agent3.ipynb\n",
    "import numpy as np\n",
    "import matplotlib.pyplot as plt\n"
   ]
  },
  {
   "cell_type": "code",
   "execution_count": 31,
   "metadata": {},
   "outputs": [],
   "source": [
    "maze_size = 5\n",
    "p = 0.3\n",
    "\n",
    "helper_matrix = np.full((maze_size, maze_size), 0)\n",
    "full_grid_world_matrix = np.full((maze_size, maze_size), 0)\n",
    "agent_gridworld = np.full((maze_size, maze_size), 0)\n",
    "knowledge_base_agent3 =  []\n",
    "\n",
    "# object_matrix is used to store the inference/ knowledge base of objects(nodes) with it's respective indices\n"
   ]
  },
  {
   "cell_type": "code",
   "execution_count": 32,
   "metadata": {},
   "outputs": [],
   "source": [
    "def blockedNeighbors(n, row, col):\n",
    "    \n",
    "    global full_grid_world_matrix\n",
    "#     print(full_grid_world_matrix)\n",
    "    directions = [[-1, 0], [1, 0], [1, 1], [1, -1], [-1, -1], [-1, 1], [0, 1], [0, -1]]\n",
    "    \n",
    "    count = 0\n",
    "    if full_grid_world_matrix[row, col] == 1:\n",
    "        return -1\n",
    "    for x,y in directions:\n",
    "        row_new = row + x\n",
    "        col_new = col + y\n",
    "        if (row_new>=0 and row_new<=(n-1)) and (col_new>=0 and col_new<=(n-1)):\n",
    "            if full_grid_world_matrix[row_new, col_new] == 1:\n",
    "                count += 1\n",
    "    \n",
    "    return count\n",
    "\n",
    "def initialize_helper_matrix(n): \n",
    "#     dir = [[-1, 0], [1, 0], [1, 1], [1, -1], [-1, -1], [-1, 1], [0, 1], [0, -1]]\n",
    "    global helper_matrix\n",
    "    \n",
    "    for x in range(n):\n",
    "        for y in range(n):\n",
    "            count = blockedNeighbors(n, x, y)\n",
    "            helper_matrix[x,y] = count\n",
    "\n"
   ]
  },
  {
   "cell_type": "code",
   "execution_count": 33,
   "metadata": {},
   "outputs": [],
   "source": [
    "def initialize_all_matrices(dim,p):\n",
    "    global full_grid_world_matrix\n",
    "    global helper_matrix\n",
    "    global maze_size\n",
    "    global block_unblock_matrix\n",
    "    global agent_gridworld\n",
    "    global knowledge_base_agent3\n",
    "    initialize(maze_size,p)\n",
    "    full_grid_world_matrix = block_unblock_matrix\n",
    "    agent_gridworld = np.full((maze_size, maze_size), 0)\n",
    "    ############ debugging #################\n",
    "#     full_grid_world_matrix = np.asmatrix([[0, 1, 0, 0, 0],\n",
    "#         [0, 1, 0, 1, 0],\n",
    "#         [0, 0, 0, 1, 0],\n",
    "#         [0, 0, 1, 1, 0],\n",
    "#         [0, 0, 0, 1, 0]])\n",
    "    #######################################\n",
    "    knowledge_base_agent3 = np.array([partial_sensing_agent3(int(item/maze_size),item%maze_size,maze_size) for item in range(maze_size * maze_size)]).reshape(maze_size, maze_size)\n",
    "    initialize_helper_matrix(maze_size)\n",
    "\n",
    "# initialize_all_matrices(maze_size,p)"
   ]
  },
  {
   "cell_type": "code",
   "execution_count": 34,
   "metadata": {},
   "outputs": [],
   "source": [
    "def set_agent_gridworld_from_knowledge_base():\n",
    "    global maze_size\n",
    "    global agent_gridworld\n",
    "    global knowledge_base_agent3\n",
    "    \n",
    "    for i in range(maze_size):\n",
    "        for j in range(maze_size):\n",
    "            if knowledge_base_agent3.item((i,j)).state == 1:\n",
    "                agent_gridworld[i][j] = 1\n",
    "\n",
    "# call get_agent_gridworld_from_knowledge_base(object_matrix) -> returns a (maze_size*maze_size) np matrix with 0s, 1s\n",
    "# Now we can call astar() on agent_gridworld like this: astar(start, agent_gridworld)"
   ]
  },
  {
   "cell_type": "code",
   "execution_count": 35,
   "metadata": {},
   "outputs": [],
   "source": [
    "def infer(node):\n",
    "    global knowledge_base_agent3\n",
    "    row = node[0]\n",
    "    col = node[1]\n",
    "    if knowledge_base_agent3[row, col].Hx == 0:\n",
    "        return\n",
    "    \n",
    "    if knowledge_base_agent3[row, col].Cx == knowledge_base_agent3[node].Bx:\n",
    "        knowledge_base_agent3[row, col].Ex += knowledge_base_agent3[node].Hx\n",
    "        knowledge_base_agent3[row, col].Hx = 0\n",
    "        uknown_neighbors = knowledge_base_agent3[row, col].get_unknown_neighbors(knowledge_base_agent3)\n",
    "        knowledge_base_agent3[row, col].set_unknown_neighbors_empty(knowledge_base_agent3)\n",
    "        for i in uknown_neighbors:\n",
    "            knowledge_base_agent3[i[0],i[0]].update_visited_neighbor_attributes(knowledge_base_agent3)\n",
    "        for i in uknown_neighbors:\n",
    "            for j in knowledge_base_agent3[i[0],i[0]].neighbor_list:\n",
    "                if knowledge_base_agent3[j[0],j[1]].visited == True:\n",
    "                    infer(j)\n",
    "        \n",
    "# update_visited_parent_attributes()\n",
    "    elif knowledge_base_agent3[row, col].Nx - knowledge_base_agent3[row, col].Cx == knowledge_base_agent3[row, col].Ex:\n",
    "        knowledge_base_agent3[row, col].Bx += knowledge_base_agent3[row, col].Hx\n",
    "        knowledge_base_agent3[row, col].Hx = 0\n",
    "        uknown_neighbors = knowledge_base_agent3[row, col].get_unknown_neighbors(knowledge_base_agent3)\n",
    "        knowledge_base_agent3[row, col].set_unknown_neighbors_blocked(knowledge_base_agent3)\n",
    "        for i in uknown_neighbors:\n",
    "            knowledge_base_agent3[i[0],i[1]].update_visited_neighbor_attributes(knowledge_base_agent3)\n",
    "        for i in uknown_neighbors:\n",
    "            for j in knowledge_base_agent3[i[0],i[1]].neighbor_list:\n",
    "                if knowledge_base_agent3[j[0],j[1]].visited == True:\n",
    "                    infer(j)\n",
    "        "
   ]
  },
  {
   "cell_type": "code",
   "execution_count": 36,
   "metadata": {},
   "outputs": [],
   "source": [
    "def display_knowledge_base_for_node(node):\n",
    "    global knowledge_base_agent3\n",
    "    \n",
    "    print(\"Knowledge for node: \",node,\"\\nNx = \",knowledge_base_agent3[node].Nx,\" | Cx = \",knowledge_base_agent3[node].Cx,\n",
    "         \" | Bx = \",knowledge_base_agent3[node].Bx,\" | Ex = \",knowledge_base_agent3[node].Ex,\n",
    "         \" | Hx = \",knowledge_base_agent3[node].Hx, \" | Visited = \",knowledge_base_agent3[node].visited,\n",
    "          \" | State = \",knowledge_base_agent3[node].state)"
   ]
  },
  {
   "cell_type": "code",
   "execution_count": 37,
   "metadata": {},
   "outputs": [],
   "source": [
    "def display_map(matrix):\n",
    "    \"\"\"\n",
    "    This function is used to display input map \n",
    "    \"\"\"\n",
    "    \n",
    "    final_display_matrix = np.copy(matrix)\n",
    "    colormap = colors.ListedColormap([\"white\",\"green\"])\n",
    "    plt.imshow(final_display_matrix, cmap=colormap)\n",
    "    plt.show()"
   ]
  },
  {
   "cell_type": "markdown",
   "metadata": {},
   "source": [
    "# Code for Agent 3 goes here"
   ]
  },
  {
   "cell_type": "code",
   "execution_count": 52,
   "metadata": {},
   "outputs": [],
   "source": [
    "def agent3():\n",
    "    global knowledge_base_agent3\n",
    "    global maze_size\n",
    "    global full_grid_world_matrix\n",
    "    global agent_gridworld\n",
    "    goal = (maze_size-1,maze_size-1)\n",
    "    source = (0,0,0)\n",
    "    goal_reached = False\n",
    "    trajectory_length = 0\n",
    "    num_of_cells_processed = 0\n",
    "    \n",
    "    \n",
    "    while not goal_reached:\n",
    "        _,_,astar_num_cells,path = astar(source,agent_gridworld)\n",
    "        num_of_cells_processed += astar_num_cells\n",
    "#         display2(path,agent_gridworld)\n",
    "        path.reverse()\n",
    "#         print(\"path:\", path )\n",
    "        if (len(path) == 0):\n",
    "            print(path)\n",
    "            print(\"no path if condition\")\n",
    "            return [],0,0\n",
    "        for node in path:\n",
    "            row = node[0]\n",
    "            col = node[1]\n",
    "            if full_grid_world_matrix[row,col] == 1:\n",
    "                agent_gridworld[row,col]=1\n",
    "                knowledge_base_agent3[row,col].state = 1\n",
    "                trajectory_length += 2\n",
    "                break\n",
    "                #ToDo path = astar(node->parent, agent_gridworld)\n",
    "                ##break ??\n",
    "            elif full_grid_world_matrix[row,col] == 0:\n",
    "                knowledge_base_agent3[row,col].visited = True\n",
    "                knowledge_base_agent3[row,col].state = 0\n",
    "                knowledge_base_agent3[row,col].update_visited_neighbor_attributes(knowledge_base_agent3)\n",
    "                trajectory_length += 1\n",
    "                if node == goal:\n",
    "#                     print(\"found goal\")\n",
    "                    goal_reached = True\n",
    "                    set_agent_gridworld_from_knowledge_base()\n",
    "                    _,_,_,shortest_path_final_agent_gridworls = astar((0,0,0),agent_gridworld)\n",
    "                    return shortest_path_final_agent_gridworls, trajectory_length, num_of_cells_processed\n",
    "\n",
    "                knowledge_base_agent3[row,col].update_attributes(maze_size,helper_matrix,knowledge_base_agent3)\n",
    "                \n",
    "                infer(node)\n",
    "#                 display2(path,agent_gridworld)\n",
    "#                 display_map(agent_gridworld)\n",
    "#                 print(agent_gridworld)\n",
    "#                 display_knowledge_base_for_node(node)\n",
    "                blocked_neighbors = knowledge_base_agent3[row,col].get_blocked_neighbors(knowledge_base_agent3)\n",
    "#                 print(blocked_neighbors,path)\n",
    "#                 print(\"type: \",type(blocked_neighbors),type(path))\n",
    "                if len(list(set(tuple(blocked_neighbors))& set(tuple(path)))) != 0:\n",
    "                    source = (node[0],node[1],0)\n",
    "                    set_agent_gridworld_from_knowledge_base()\n",
    "                    break\n",
    "    set_agent_gridworld_from_knowledge_base()\n",
    "#     print(\"*********agent: \",agent_gridworld)\n",
    "    _,_,_,shortest_path_final_agent_gridworld = astar((0,0,0),agent_gridworld)\n",
    "    return shortest_path_final_agent_gridworld, trajectory_length, num_of_cells_processed"
   ]
  },
  {
   "cell_type": "code",
   "execution_count": 53,
   "metadata": {},
   "outputs": [
    {
     "data": {
      "text/plain": [
       "<matplotlib.image.AxesImage at 0x7fe4cabacf70>"
      ]
     },
     "execution_count": 53,
     "metadata": {},
     "output_type": "execute_result"
    },
    {
     "data": {
      "image/png": "[encoded data removed]",
      "text/plain": [
       "<Figure size 432x288 with 1 Axes>"
      ]
     },
     "metadata": {
      "needs_background": "light"
     },
     "output_type": "display_data"
    }
   ],
   "source": [
    "# initialize_all_matrices(maze_size,p)\n",
    "# plt.spy(full_grid_world_matrix)"
   ]
  },
  {
   "cell_type": "code",
   "execution_count": 54,
   "metadata": {},
   "outputs": [
    {
     "data": {
      "image/png": "[encoded data removed]",
      "text/plain": [
       "<Figure size 432x288 with 1 Axes>"
      ]
     },
     "metadata": {
      "needs_background": "light"
     },
     "output_type": "display_data"
    }
   ],
   "source": [
    "# shortest_path_agent3,traj_length, num_calls_processed = agent3()\n",
    "# print(\"shortest path: \",shortest_path)\n",
    "# display2(shortest_path_agent3,agent_gridworld)"
   ]
  },
  {
   "cell_type": "code",
   "execution_count": null,
   "metadata": {},
   "outputs": [],
   "source": []
  }
 ],
 "metadata": {
  "kernelspec": {
   "display_name": "Python 3",
   "language": "python",
   "name": "python3"
  },
  "language_info": {
   "codemirror_mode": {
    "name": "ipython",
    "version": 3
   },
   "file_extension": ".py",
   "mimetype": "text/x-python",
   "name": "python",
   "nbconvert_exporter": "python",
   "pygments_lexer": "ipython3",
   "version": "3.8.5"
  }
 },
 "nbformat": 4,
 "nbformat_minor": 4
}
